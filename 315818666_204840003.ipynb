{
 "cells": [
  {
   "cell_type": "markdown",
   "metadata": {},
   "source": [
    "<br>\n",
    "<font color='purple' size=7><b>Google Play Store Apps - Data Analysis</b></font>"
   ]
  },
  {
   "cell_type": "markdown",
   "metadata": {},
   "source": [
    "<img src=https://www.cyclonis.com/images/2020/03/googleplay.jpg style=\"height:200px\">\n",
    "Source: CYCLONIS"
   ]
  },
  {
   "cell_type": "code",
   "execution_count": 1,
   "metadata": {},
   "outputs": [],
   "source": [
    "import numpy as np\n",
    "import pandas as pd\n",
    "import matplotlib.pyplot as plt\n",
    "import seaborn as sns\n",
    "from sklearn.preprocessing import MinMaxScaler\n",
    "from sklearn.preprocessing import StandardScaler\n",
    "from sklearn.neighbors import KNeighborsClassifier\n",
    "from sklearn.model_selection import train_test_split\n",
    "from sklearn.model_selection import cross_val_score"
   ]
  },
  {
   "cell_type": "markdown",
   "metadata": {},
   "source": [
    "# Information\n",
    "In this project we will research the \"Google Play Store Apps\" dataset. <br>\n",
    "This dataset contains information about applications listed in Android's application store- Google Play Store, such as the size of the app, number of reviews, number of installs, etc. <br>\n",
    "Researching this dataset could help developers understand the Android market and improve their apps accordingly.<br>\n",
    "In this analysis we assume that this dataset is a representative sample of the google play store's available apps."
   ]
  },
  {
   "cell_type": "code",
   "execution_count": 2,
   "metadata": {},
   "outputs": [
    {
     "data": {
      "text/html": [
       "<div>\n",
       "<style scoped>\n",
       "    .dataframe tbody tr th:only-of-type {\n",
       "        vertical-align: middle;\n",
       "    }\n",
       "\n",
       "    .dataframe tbody tr th {\n",
       "        vertical-align: top;\n",
       "    }\n",
       "\n",
       "    .dataframe thead th {\n",
       "        text-align: right;\n",
       "    }\n",
       "</style>\n",
       "<table border=\"1\" class=\"dataframe\">\n",
       "  <thead>\n",
       "    <tr style=\"text-align: right;\">\n",
       "      <th></th>\n",
       "      <th>App</th>\n",
       "      <th>Category</th>\n",
       "      <th>Rating</th>\n",
       "      <th>Reviews</th>\n",
       "      <th>Size</th>\n",
       "      <th>Installs</th>\n",
       "      <th>Type</th>\n",
       "      <th>Price</th>\n",
       "      <th>Content Rating</th>\n",
       "      <th>Genres</th>\n",
       "      <th>Last Updated</th>\n",
       "      <th>Current Ver</th>\n",
       "      <th>Android Ver</th>\n",
       "    </tr>\n",
       "  </thead>\n",
       "  <tbody>\n",
       "    <tr>\n",
       "      <th>0</th>\n",
       "      <td>Photo Editor &amp; Candy Camera &amp; Grid &amp; ScrapBook</td>\n",
       "      <td>ART_AND_DESIGN</td>\n",
       "      <td>4.1</td>\n",
       "      <td>159</td>\n",
       "      <td>19M</td>\n",
       "      <td>10,000+</td>\n",
       "      <td>Free</td>\n",
       "      <td>0</td>\n",
       "      <td>Everyone</td>\n",
       "      <td>Art &amp; Design</td>\n",
       "      <td>January 7, 2018</td>\n",
       "      <td>1.0.0</td>\n",
       "      <td>4.0.3 and up</td>\n",
       "    </tr>\n",
       "    <tr>\n",
       "      <th>1</th>\n",
       "      <td>Coloring book moana</td>\n",
       "      <td>ART_AND_DESIGN</td>\n",
       "      <td>3.9</td>\n",
       "      <td>967</td>\n",
       "      <td>14M</td>\n",
       "      <td>500,000+</td>\n",
       "      <td>Free</td>\n",
       "      <td>0</td>\n",
       "      <td>Everyone</td>\n",
       "      <td>Art &amp; Design;Pretend Play</td>\n",
       "      <td>January 15, 2018</td>\n",
       "      <td>2.0.0</td>\n",
       "      <td>4.0.3 and up</td>\n",
       "    </tr>\n",
       "    <tr>\n",
       "      <th>2</th>\n",
       "      <td>U Launcher Lite – FREE Live Cool Themes, Hide ...</td>\n",
       "      <td>ART_AND_DESIGN</td>\n",
       "      <td>4.7</td>\n",
       "      <td>87510</td>\n",
       "      <td>8.7M</td>\n",
       "      <td>5,000,000+</td>\n",
       "      <td>Free</td>\n",
       "      <td>0</td>\n",
       "      <td>Everyone</td>\n",
       "      <td>Art &amp; Design</td>\n",
       "      <td>August 1, 2018</td>\n",
       "      <td>1.2.4</td>\n",
       "      <td>4.0.3 and up</td>\n",
       "    </tr>\n",
       "    <tr>\n",
       "      <th>3</th>\n",
       "      <td>Sketch - Draw &amp; Paint</td>\n",
       "      <td>ART_AND_DESIGN</td>\n",
       "      <td>4.5</td>\n",
       "      <td>215644</td>\n",
       "      <td>25M</td>\n",
       "      <td>50,000,000+</td>\n",
       "      <td>Free</td>\n",
       "      <td>0</td>\n",
       "      <td>Teen</td>\n",
       "      <td>Art &amp; Design</td>\n",
       "      <td>June 8, 2018</td>\n",
       "      <td>Varies with device</td>\n",
       "      <td>4.2 and up</td>\n",
       "    </tr>\n",
       "    <tr>\n",
       "      <th>4</th>\n",
       "      <td>Pixel Draw - Number Art Coloring Book</td>\n",
       "      <td>ART_AND_DESIGN</td>\n",
       "      <td>4.3</td>\n",
       "      <td>967</td>\n",
       "      <td>2.8M</td>\n",
       "      <td>100,000+</td>\n",
       "      <td>Free</td>\n",
       "      <td>0</td>\n",
       "      <td>Everyone</td>\n",
       "      <td>Art &amp; Design;Creativity</td>\n",
       "      <td>June 20, 2018</td>\n",
       "      <td>1.1</td>\n",
       "      <td>4.4 and up</td>\n",
       "    </tr>\n",
       "  </tbody>\n",
       "</table>\n",
       "</div>"
      ],
      "text/plain": [
       "                                                 App        Category  Rating  \\\n",
       "0     Photo Editor & Candy Camera & Grid & ScrapBook  ART_AND_DESIGN     4.1   \n",
       "1                                Coloring book moana  ART_AND_DESIGN     3.9   \n",
       "2  U Launcher Lite – FREE Live Cool Themes, Hide ...  ART_AND_DESIGN     4.7   \n",
       "3                              Sketch - Draw & Paint  ART_AND_DESIGN     4.5   \n",
       "4              Pixel Draw - Number Art Coloring Book  ART_AND_DESIGN     4.3   \n",
       "\n",
       "  Reviews  Size     Installs  Type Price Content Rating  \\\n",
       "0     159   19M      10,000+  Free     0       Everyone   \n",
       "1     967   14M     500,000+  Free     0       Everyone   \n",
       "2   87510  8.7M   5,000,000+  Free     0       Everyone   \n",
       "3  215644   25M  50,000,000+  Free     0           Teen   \n",
       "4     967  2.8M     100,000+  Free     0       Everyone   \n",
       "\n",
       "                      Genres      Last Updated         Current Ver  \\\n",
       "0               Art & Design   January 7, 2018               1.0.0   \n",
       "1  Art & Design;Pretend Play  January 15, 2018               2.0.0   \n",
       "2               Art & Design    August 1, 2018               1.2.4   \n",
       "3               Art & Design      June 8, 2018  Varies with device   \n",
       "4    Art & Design;Creativity     June 20, 2018                 1.1   \n",
       "\n",
       "    Android Ver  \n",
       "0  4.0.3 and up  \n",
       "1  4.0.3 and up  \n",
       "2  4.0.3 and up  \n",
       "3    4.2 and up  \n",
       "4    4.4 and up  "
      ]
     },
     "metadata": {},
     "output_type": "display_data"
    },
    {
     "name": "stdout",
     "output_type": "stream",
     "text": [
      "<class 'pandas.core.frame.DataFrame'>\n",
      "RangeIndex: 10841 entries, 0 to 10840\n",
      "Data columns (total 13 columns):\n",
      " #   Column          Non-Null Count  Dtype  \n",
      "---  ------          --------------  -----  \n",
      " 0   App             10841 non-null  object \n",
      " 1   Category        10841 non-null  object \n",
      " 2   Rating          9367 non-null   float64\n",
      " 3   Reviews         10841 non-null  object \n",
      " 4   Size            10841 non-null  object \n",
      " 5   Installs        10841 non-null  object \n",
      " 6   Type            10840 non-null  object \n",
      " 7   Price           10841 non-null  object \n",
      " 8   Content Rating  10840 non-null  object \n",
      " 9   Genres          10841 non-null  object \n",
      " 10  Last Updated    10841 non-null  object \n",
      " 11  Current Ver     10833 non-null  object \n",
      " 12  Android Ver     10838 non-null  object \n",
      "dtypes: float64(1), object(12)\n",
      "memory usage: 1.1+ MB\n"
     ]
    },
    {
     "data": {
      "text/plain": [
       "None"
      ]
     },
     "metadata": {},
     "output_type": "display_data"
    },
    {
     "name": "stdout",
     "output_type": "stream",
     "text": [
      "Shape: \t (10841, 13)\n"
     ]
    }
   ],
   "source": [
    "df_googleplaystore = pd.read_csv('googleplaystore.csv')\n",
    "user_reviews = pd.read_csv('user_reviews.csv')\n",
    "# some information about the dataset\n",
    "display(df_googleplaystore.head())\n",
    "display(df_googleplaystore.info())\n",
    "print(\"Shape: \\t\" , df_googleplaystore.shape)"
   ]
  },
  {
   "cell_type": "markdown",
   "metadata": {},
   "source": [
    "Our dataset includes 10841 records and has 13 features. <br>\n",
    "For each app there is information about: \n",
    "* App - Application name - **Categorial**\n",
    "* Category - Category the app belongs to - **Categorial**\n",
    "* Rating - Overall user rating of the app - **Numeric**\n",
    "* Reviews - Number of user reviews for the app - **Categorial**\n",
    "* Size - Size of the app - **Categorial**\n",
    "* Installs - Number of user installs for the app - **Categorial**\n",
    "* Type- Whether the app is free or paid - **Categorial**\n",
    "* Price - Price of the app - **Categorial**\n",
    "* Content Rating - Age group the app is targeted at - Children / Mature 21+ / Adult - **Categorial**\n",
    "* Genres - An app can belong to multiple genres (apart from its main category) - **Categorial**\n",
    "* Last Updated - Date when the app was last updated on Play Store - **Categorial**\n",
    "* Current Ver - Current version of the app available on Play Store - **Categorial**\n",
    "* Android Ver - Min required Android version - **Categorial**\n",
    "\n",
    "The categorial variables: Installs, Size, Reviews and Price are only categorial in memory, but actually represent numeric variables. <br>\n",
    "The categorial variables: Last Updated are only categorial in memory, but actually represent date. "
   ]
  },
  {
   "cell_type": "markdown",
   "metadata": {},
   "source": [
    "# Cleaning the data"
   ]
  },
  {
   "cell_type": "markdown",
   "metadata": {},
   "source": [
    "## Droping duplicates:"
   ]
  },
  {
   "cell_type": "code",
   "execution_count": 3,
   "metadata": {},
   "outputs": [
    {
     "data": {
      "text/plain": [
       "0.08260869565217391"
      ]
     },
     "execution_count": 3,
     "metadata": {},
     "output_type": "execute_result"
    }
   ],
   "source": [
    "df_googleplaystore.sort_values(by=['App','Reviews']) # sort by name of app and then by reviews in descending order\n",
    "apps = df_googleplaystore['App'].value_counts() # creating series of apps and number of repetitions\n",
    "filter = apps > 1 # filtering only apps that are duplicated\n",
    "duplicated_apps = apps[filter]\n",
    "duplicated_apps_precentage = duplicated_apps.value_counts().sum()/apps.value_counts().sum() # calculating the percentage of the duplicated apps out of the total number of apps\n",
    "duplicated_apps_precentage # the percent of the duplicated apps"
   ]
  },
  {
   "cell_type": "markdown",
   "metadata": {},
   "source": [
    "In the data cleaning process we discovered that there is a number of duplicated rows (applications). for each app, the duplicated rows varies only by the number of reviews.\n",
    "we faced two options:\n",
    "1. Removing all duplicated rows - <br>\n",
    "Advantage: The data is clean and there is no chance for measurement bias (the chance of deleting the wrong row). <br>\n",
    "Disadvantage: Loss of 8% of the applications. Deleting about 1,000 applications from the data that could affect the classifiers of our research. \n",
    "In the case that the data that is duplicated is not random we can unwantedly cause the data to be unrepresentative.<br>\n",
    "2. In each duplicated applicatin keeping one of the rows (the row that contain the maximum number of reviews because it is probably the most recent) and removing all of the rest - <br>\n",
    "Advantage: Not losing 8% of the applications. making sure that the data is still representative because each app can affect the classifiers of our research. <br>\n",
    "Disadvantage: Unwantedly deleting the wrong row, causing measurement bias.\n",
    "\n",
    "We chose option number 2. We believe the advantages overcome the disadvantages because in this case a random measurement bias is less critical than an unrepresentative data."
   ]
  },
  {
   "cell_type": "code",
   "execution_count": 4,
   "metadata": {},
   "outputs": [],
   "source": [
    "# dropping the duplicates\n",
    "df_googleplaystore.drop_duplicates(subset='App',keep='first',inplace=True, ignore_index=True)"
   ]
  },
  {
   "cell_type": "markdown",
   "metadata": {},
   "source": [
    "## Droping/Replacing unwanted data:"
   ]
  },
  {
   "cell_type": "code",
   "execution_count": 5,
   "metadata": {},
   "outputs": [
    {
     "data": {
      "text/html": [
       "<div>\n",
       "<style scoped>\n",
       "    .dataframe tbody tr th:only-of-type {\n",
       "        vertical-align: middle;\n",
       "    }\n",
       "\n",
       "    .dataframe tbody tr th {\n",
       "        vertical-align: top;\n",
       "    }\n",
       "\n",
       "    .dataframe thead th {\n",
       "        text-align: right;\n",
       "    }\n",
       "</style>\n",
       "<table border=\"1\" class=\"dataframe\">\n",
       "  <thead>\n",
       "    <tr style=\"text-align: right;\">\n",
       "      <th></th>\n",
       "      <th>App</th>\n",
       "      <th>Category</th>\n",
       "      <th>Rating</th>\n",
       "      <th>Reviews</th>\n",
       "      <th>Size</th>\n",
       "      <th>Installs</th>\n",
       "      <th>Type</th>\n",
       "      <th>Price</th>\n",
       "      <th>Content Rating</th>\n",
       "      <th>Genres</th>\n",
       "      <th>Last Updated</th>\n",
       "      <th>Current Ver</th>\n",
       "      <th>Android Ver</th>\n",
       "    </tr>\n",
       "  </thead>\n",
       "  <tbody>\n",
       "    <tr>\n",
       "      <th>9300</th>\n",
       "      <td>Life Made WI-Fi Touchscreen Photo Frame</td>\n",
       "      <td>1.9</td>\n",
       "      <td>19.0</td>\n",
       "      <td>3.0M</td>\n",
       "      <td>1,000+</td>\n",
       "      <td>Free</td>\n",
       "      <td>0</td>\n",
       "      <td>Everyone</td>\n",
       "      <td>NaN</td>\n",
       "      <td>February 11, 2018</td>\n",
       "      <td>1.0.19</td>\n",
       "      <td>4.0 and up</td>\n",
       "      <td>NaN</td>\n",
       "    </tr>\n",
       "  </tbody>\n",
       "</table>\n",
       "</div>"
      ],
      "text/plain": [
       "                                          App Category  Rating Reviews  \\\n",
       "9300  Life Made WI-Fi Touchscreen Photo Frame      1.9    19.0    3.0M   \n",
       "\n",
       "        Size Installs Type     Price Content Rating             Genres  \\\n",
       "9300  1,000+     Free    0  Everyone            NaN  February 11, 2018   \n",
       "\n",
       "     Last Updated Current Ver Android Ver  \n",
       "9300       1.0.19  4.0 and up         NaN  "
      ]
     },
     "metadata": {},
     "output_type": "display_data"
    }
   ],
   "source": [
    "filterrelevantrow = df_googleplaystore['Installs'] == 'Free'\n",
    "display(df_googleplaystore[filterrelevantrow])"
   ]
  },
  {
   "cell_type": "markdown",
   "metadata": {},
   "source": [
    "As shown above, there is one row that all of it's values are shifted left which can affect our research and cause a measurement bias. We decided to drop this row because of that reason."
   ]
  },
  {
   "cell_type": "code",
   "execution_count": 6,
   "metadata": {},
   "outputs": [],
   "source": [
    "# dropping the defected row\n",
    "filterfree = df_googleplaystore['Installs'] != 'Free'\n",
    "df_googleplaystore = df_googleplaystore[filterfree]"
   ]
  },
  {
   "cell_type": "code",
   "execution_count": 7,
   "metadata": {},
   "outputs": [
    {
     "data": {
      "text/plain": [
       "App                  0\n",
       "Category             0\n",
       "Rating            1463\n",
       "Reviews              0\n",
       "Size                 0\n",
       "Installs             0\n",
       "Type                 1\n",
       "Price                0\n",
       "Content Rating       0\n",
       "Genres               0\n",
       "Last Updated         0\n",
       "Current Ver          8\n",
       "Android Ver          2\n",
       "dtype: int64"
      ]
     },
     "metadata": {},
     "output_type": "display_data"
    },
    {
     "name": "stdout",
     "output_type": "stream",
     "text": [
      "Total Number of NA values: 1474\n"
     ]
    }
   ],
   "source": [
    "# checking NA values\n",
    "display(df_googleplaystore.isna().sum())\n",
    "sum_na = df_googleplaystore.isna().sum().sum()\n",
    "print(f\"Total Number of NA values: {sum_na}\")"
   ]
  },
  {
   "cell_type": "markdown",
   "metadata": {},
   "source": [
    "As shown, there are 1474 rows with NA values. In 'Rating' column, there are 1463 NA values, therefore we will replace the NA values with the median value in order to have a minimum impact on the data and our clasifier. <br> \n",
    "The rest of the rows that contain NA values are negligible so we will use dropna."
   ]
  },
  {
   "cell_type": "code",
   "execution_count": 8,
   "metadata": {},
   "outputs": [
    {
     "name": "stdout",
     "output_type": "stream",
     "text": [
      "The new shape of the dataset: \t (9659, 13)\n"
     ]
    }
   ],
   "source": [
    "print(\"The new shape of the dataset: \\t\" , df_googleplaystore.shape)"
   ]
  },
  {
   "cell_type": "markdown",
   "metadata": {},
   "source": [
    "#### Rating"
   ]
  },
  {
   "cell_type": "markdown",
   "metadata": {},
   "source": [
    "As we discovered, in the 'Rating' column, there are 1463 rows which contains missing values. <br>\n",
    "In the dataset there are 9659 rows at this moment. Since 1463 out of 9659 rows is more than 15% of the data, deleting these rows can cause a critical impact on the data, making it unrepresentative. <br>\n",
    "We choose to replace this value with the median value, which help us to make sure there is a minimum impact on the classification process in the research. <br>"
   ]
  },
  {
   "cell_type": "code",
   "execution_count": 9,
   "metadata": {},
   "outputs": [
    {
     "data": {
      "text/plain": [
       "0"
      ]
     },
     "execution_count": 9,
     "metadata": {},
     "output_type": "execute_result"
    }
   ],
   "source": [
    "median_rating = df_googleplaystore['Rating'].median()\n",
    "wanted_rows = df_googleplaystore['Rating'].loc[df_googleplaystore['Rating'].isna()].index.tolist()\n",
    "df_googleplaystore.loc[wanted_rows, 'Rating'] = pd.DataFrame(df_googleplaystore.loc[wanted_rows, 'Rating'].apply(lambda x: median_rating)) # changing to the median value\n",
    "df_googleplaystore['Rating'].isna().sum() # the NA values in Rating column after the change"
   ]
  },
  {
   "cell_type": "markdown",
   "metadata": {},
   "source": [
    "#### Content Rating"
   ]
  },
  {
   "cell_type": "code",
   "execution_count": 10,
   "metadata": {
    "scrolled": false
   },
   "outputs": [
    {
     "data": {
      "text/plain": [
       "array(['Everyone', 'Teen', 'Everyone 10+', 'Mature 17+',\n",
       "       'Adults only 18+', 'Unrated'], dtype=object)"
      ]
     },
     "execution_count": 10,
     "metadata": {},
     "output_type": "execute_result"
    }
   ],
   "source": [
    "df_googleplaystore['Content Rating'].unique()"
   ]
  },
  {
   "cell_type": "markdown",
   "metadata": {},
   "source": [
    "As shown, there is a unique value - 'Unrated'. We will measure the impact that it will cause on the data while dropping the rows that contain that value."
   ]
  },
  {
   "cell_type": "code",
   "execution_count": 11,
   "metadata": {},
   "outputs": [
    {
     "data": {
      "text/plain": [
       "Content Rating\n",
       "Adults only 18+       3\n",
       "Everyone           7903\n",
       "Everyone 10+        322\n",
       "Mature 17+          393\n",
       "Teen               1036\n",
       "Unrated               2\n",
       "dtype: int64"
      ]
     },
     "execution_count": 11,
     "metadata": {},
     "output_type": "execute_result"
    }
   ],
   "source": [
    "df_googleplaystore.groupby('Content Rating').size()"
   ]
  },
  {
   "cell_type": "markdown",
   "metadata": {},
   "source": [
    "As shown, there are 2 Unrated values in the 'Content Rating' column. This number of rows is negligible, therefore we choose to drop these rows."
   ]
  },
  {
   "cell_type": "code",
   "execution_count": 12,
   "metadata": {},
   "outputs": [],
   "source": [
    "wanted_rows = df_googleplaystore['Content Rating'].loc[df_googleplaystore['Content Rating'].str.contains('Unrated')].index.tolist()\n",
    "df_googleplaystore.drop(wanted_rows , inplace=True)"
   ]
  },
  {
   "cell_type": "markdown",
   "metadata": {},
   "source": [
    "## Dropping NA:"
   ]
  },
  {
   "cell_type": "code",
   "execution_count": 13,
   "metadata": {},
   "outputs": [
    {
     "data": {
      "text/plain": [
       "11"
      ]
     },
     "execution_count": 13,
     "metadata": {},
     "output_type": "execute_result"
    }
   ],
   "source": [
    "df_googleplaystore.isna().sum().sum() # displaying the number of NA values before the drop"
   ]
  },
  {
   "cell_type": "code",
   "execution_count": 14,
   "metadata": {},
   "outputs": [
    {
     "data": {
      "text/plain": [
       "0"
      ]
     },
     "execution_count": 14,
     "metadata": {},
     "output_type": "execute_result"
    }
   ],
   "source": [
    "df_googleplaystore.dropna(inplace=True)\n",
    "df_googleplaystore.isna().sum().sum() # number of NA values after the drop"
   ]
  },
  {
   "cell_type": "markdown",
   "metadata": {},
   "source": [
    "## Changing categorial to numeric:"
   ]
  },
  {
   "cell_type": "markdown",
   "metadata": {},
   "source": [
    "#### Installs"
   ]
  },
  {
   "cell_type": "code",
   "execution_count": 15,
   "metadata": {},
   "outputs": [
    {
     "data": {
      "text/plain": [
       "array(['10,000+', '500,000+', '5,000,000+', '50,000,000+', '100,000+',\n",
       "       '50,000+', '1,000,000+', '10,000,000+', '5,000+', '100,000,000+',\n",
       "       '1,000,000,000+', '1,000+', '500,000,000+', '50+', '100+', '500+',\n",
       "       '10+', '1+', '5+', '0+'], dtype=object)"
      ]
     },
     "execution_count": 15,
     "metadata": {},
     "output_type": "execute_result"
    }
   ],
   "source": [
    "df_googleplaystore['Installs'].unique()"
   ]
  },
  {
   "cell_type": "markdown",
   "metadata": {},
   "source": [
    "In the 'Installs' column there are values that contain the signs '+' and ','. <br>\n",
    "We will replace these signs in order to convert the column to be numeric."
   ]
  },
  {
   "cell_type": "code",
   "execution_count": 16,
   "metadata": {},
   "outputs": [],
   "source": [
    "df_googleplaystore['Installs'] = df_googleplaystore['Installs'].apply(lambda x: x.strip(\"+\"))\n",
    "df_googleplaystore['Installs'] = df_googleplaystore['Installs'].apply(lambda x: x.replace(\",\", \"\"))\n",
    "df_googleplaystore['Installs'] = pd.to_numeric(df_googleplaystore['Installs'])"
   ]
  },
  {
   "cell_type": "markdown",
   "metadata": {},
   "source": [
    "#### Size"
   ]
  },
  {
   "cell_type": "code",
   "execution_count": 17,
   "metadata": {},
   "outputs": [
    {
     "data": {
      "text/plain": [
       "array(['19M', '14M', '8.7M', '25M', '2.8M', '5.6M', '29M', '33M', '3.1M',\n",
       "       '28M', '12M', '20M', '21M', '37M', '5.5M', '17M', '39M', '31M',\n",
       "       '4.2M', '7.0M', '23M', '6.0M', '6.1M', '4.6M', '9.2M', '5.2M',\n",
       "       '11M', '24M', 'Varies with device', '9.4M', '15M', '10M', '1.2M',\n",
       "       '26M', '8.0M', '7.9M', '56M', '57M', '35M', '54M', '201k', '3.6M',\n",
       "       '5.7M', '8.6M', '2.4M', '27M', '2.7M', '2.5M', '16M', '3.4M',\n",
       "       '8.9M', '3.9M', '2.9M', '38M', '32M', '5.4M', '18M', '1.1M',\n",
       "       '2.2M', '4.5M', '9.8M', '52M', '9.0M', '6.7M', '30M', '2.6M',\n",
       "       '7.1M', '3.7M', '22M', '7.4M', '6.4M', '3.2M', '8.2M', '9.9M',\n",
       "       '4.9M', '9.5M', '5.0M', '5.9M', '13M', '73M', '6.8M', '3.5M',\n",
       "       '4.0M', '2.3M', '7.2M', '2.1M', '42M', '7.3M', '9.1M', '55M',\n",
       "       '23k', '6.5M', '1.5M', '7.5M', '51M', '41M', '48M', '8.5M', '46M',\n",
       "       '8.3M', '4.3M', '4.7M', '3.3M', '40M', '7.8M', '8.8M', '6.6M',\n",
       "       '5.1M', '61M', '66M', '79k', '8.4M', '118k', '44M', '695k', '1.6M',\n",
       "       '6.2M', '18k', '53M', '1.4M', '3.0M', '5.8M', '3.8M', '9.6M',\n",
       "       '45M', '63M', '49M', '77M', '4.4M', '4.8M', '70M', '6.9M', '9.3M',\n",
       "       '10.0M', '8.1M', '36M', '84M', '97M', '2.0M', '1.9M', '1.8M',\n",
       "       '5.3M', '47M', '556k', '526k', '76M', '7.6M', '59M', '9.7M', '78M',\n",
       "       '72M', '43M', '7.7M', '6.3M', '334k', '34M', '93M', '65M', '79M',\n",
       "       '100M', '58M', '50M', '68M', '64M', '67M', '60M', '94M', '232k',\n",
       "       '99M', '624k', '95M', '8.5k', '41k', '292k', '80M', '1.7M', '74M',\n",
       "       '62M', '69M', '75M', '98M', '85M', '82M', '96M', '87M', '71M',\n",
       "       '86M', '91M', '81M', '92M', '83M', '88M', '704k', '862k', '899k',\n",
       "       '378k', '266k', '375k', '1.3M', '975k', '980k', '4.1M', '89M',\n",
       "       '696k', '544k', '525k', '920k', '779k', '853k', '720k', '713k',\n",
       "       '772k', '318k', '58k', '241k', '196k', '857k', '51k', '953k',\n",
       "       '865k', '251k', '930k', '540k', '313k', '746k', '203k', '26k',\n",
       "       '314k', '239k', '371k', '220k', '730k', '756k', '91k', '293k',\n",
       "       '17k', '74k', '14k', '317k', '78k', '924k', '902k', '818k', '81k',\n",
       "       '939k', '169k', '45k', '475k', '965k', '90M', '545k', '61k',\n",
       "       '283k', '655k', '714k', '93k', '872k', '121k', '322k', '1.0M',\n",
       "       '976k', '172k', '238k', '549k', '206k', '954k', '444k', '717k',\n",
       "       '210k', '609k', '308k', '705k', '306k', '904k', '473k', '175k',\n",
       "       '350k', '383k', '454k', '421k', '70k', '812k', '442k', '842k',\n",
       "       '417k', '412k', '459k', '478k', '335k', '782k', '721k', '430k',\n",
       "       '429k', '192k', '200k', '460k', '728k', '496k', '816k', '414k',\n",
       "       '506k', '887k', '613k', '243k', '569k', '778k', '683k', '592k',\n",
       "       '319k', '186k', '840k', '647k', '191k', '373k', '437k', '598k',\n",
       "       '716k', '585k', '982k', '219k', '55k', '948k', '323k', '691k',\n",
       "       '511k', '951k', '963k', '25k', '554k', '351k', '27k', '82k',\n",
       "       '208k', '913k', '514k', '551k', '29k', '103k', '898k', '743k',\n",
       "       '116k', '153k', '209k', '353k', '499k', '173k', '597k', '809k',\n",
       "       '122k', '411k', '400k', '801k', '787k', '50k', '643k', '986k',\n",
       "       '97k', '516k', '837k', '780k', '961k', '269k', '20k', '498k',\n",
       "       '600k', '749k', '642k', '881k', '72k', '656k', '601k', '221k',\n",
       "       '228k', '108k', '940k', '176k', '33k', '663k', '34k', '942k',\n",
       "       '259k', '164k', '458k', '245k', '629k', '28k', '288k', '775k',\n",
       "       '785k', '636k', '916k', '994k', '309k', '485k', '914k', '903k',\n",
       "       '608k', '500k', '54k', '562k', '847k', '957k', '688k', '811k',\n",
       "       '270k', '48k', '329k', '523k', '921k', '874k', '981k', '784k',\n",
       "       '280k', '24k', '518k', '754k', '892k', '154k', '860k', '364k',\n",
       "       '387k', '626k', '161k', '879k', '39k', '970k', '170k', '141k',\n",
       "       '160k', '144k', '143k', '190k', '376k', '193k', '246k', '73k',\n",
       "       '992k', '253k', '420k', '404k', '470k', '226k', '240k', '89k',\n",
       "       '234k', '257k', '861k', '467k', '157k', '44k', '676k', '67k',\n",
       "       '552k', '885k', '1020k', '582k', '619k'], dtype=object)"
      ]
     },
     "execution_count": 17,
     "metadata": {},
     "output_type": "execute_result"
    }
   ],
   "source": [
    "df_googleplaystore['Size'].unique()"
   ]
  },
  {
   "cell_type": "markdown",
   "metadata": {},
   "source": [
    "As shown above, the only unique value that does not represent a number is 'Varies with device'. <br>\n",
    "Furthermore, In this column there are values that contain the signs 'k' and 'M'. <br>\n",
    "We will replace these signs in order to convert the column to be numeric."
   ]
  },
  {
   "cell_type": "code",
   "execution_count": 18,
   "metadata": {
    "scrolled": true
   },
   "outputs": [
    {
     "name": "stdout",
     "output_type": "stream",
     "text": [
      "The new shape of the dataset: \t (9646, 13)\n"
     ]
    }
   ],
   "source": [
    "print(\"The new shape of the dataset: \\t\" , df_googleplaystore.shape)"
   ]
  },
  {
   "cell_type": "code",
   "execution_count": 19,
   "metadata": {},
   "outputs": [
    {
     "data": {
      "text/plain": [
       "1226"
      ]
     },
     "execution_count": 19,
     "metadata": {},
     "output_type": "execute_result"
    }
   ],
   "source": [
    "filtervaries = df_googleplaystore['Size'] == 'Varies with device'\n",
    "df_googleplaystore[filtervaries].shape[0]"
   ]
  },
  {
   "cell_type": "markdown",
   "metadata": {},
   "source": [
    "The 'Varies with device' value apears in 1226 rows. <br>\n",
    "The number of rows in the dataset in this moment is 9646. Since 1226 out of 9646 rows is more than 12% of the data, deleting these rows can cause a critical impact on the data, making it unrepresentative. <br>\n",
    "We will change the 'Varies with device' value to be the median value in order to cause a minimum impact on the data and the clasifier. <br>\n",
    "Also, we want to make an even unit of measure, therfore we will convert the Kbytes to Mbytes by dropping the 'k' and 'M' and dividing by 1024."
   ]
  },
  {
   "cell_type": "code",
   "execution_count": 20,
   "metadata": {},
   "outputs": [],
   "source": [
    "# changing the value -  at first to '-1' in order to convert to numeric so we can calculate the median\n",
    "df_googleplaystore['Size'] = df_googleplaystore['Size'].apply(lambda x: x.replace(\"Varies with device\", \"-1\"))"
   ]
  },
  {
   "cell_type": "code",
   "execution_count": 21,
   "metadata": {},
   "outputs": [],
   "source": [
    "wanted_rows = df_googleplaystore['Size'].loc[df_googleplaystore['Size'].str.contains('k')].index.tolist()\n",
    "df_googleplaystore.loc[wanted_rows, 'Size'] = pd.DataFrame(df_googleplaystore.loc[wanted_rows, 'Size'].apply(lambda x: x.strip('k')).astype(float).apply(lambda x: x / 1024).apply(lambda x: round(x, 3)).astype(str))\n",
    "df_googleplaystore['Size'] = df_googleplaystore['Size'].apply(lambda x: x.strip(\"M\")) # dropping 'M'\n",
    "df_googleplaystore['Size'] = pd.to_numeric(df_googleplaystore['Size']) # convert to numeric"
   ]
  },
  {
   "cell_type": "code",
   "execution_count": 22,
   "metadata": {},
   "outputs": [],
   "source": [
    "wanted_rows = df_googleplaystore['Size'].loc[df_googleplaystore['Size'] != (-1)].index.tolist()\n",
    "median = df_googleplaystore.loc[wanted_rows, 'Size'].median() # calculating the median"
   ]
  },
  {
   "cell_type": "code",
   "execution_count": 23,
   "metadata": {},
   "outputs": [],
   "source": [
    "wanted_rows = df_googleplaystore['Size'].loc[df_googleplaystore['Size'] == (-1)].index.tolist()\n",
    "df_googleplaystore.loc[wanted_rows, 'Size'] = median # changing to the median value"
   ]
  },
  {
   "cell_type": "markdown",
   "metadata": {},
   "source": [
    "#### Reviews"
   ]
  },
  {
   "cell_type": "code",
   "execution_count": 24,
   "metadata": {},
   "outputs": [],
   "source": [
    "df_googleplaystore['Reviews'] = pd.to_numeric(df_googleplaystore['Reviews']) # convert to numeric"
   ]
  },
  {
   "cell_type": "markdown",
   "metadata": {},
   "source": [
    "#### Price"
   ]
  },
  {
   "cell_type": "code",
   "execution_count": 25,
   "metadata": {},
   "outputs": [
    {
     "data": {
      "text/plain": [
       "array(['0', '$4.99', '$3.99', '$6.99', '$1.49', '$2.99', '$7.99', '$5.99',\n",
       "       '$3.49', '$1.99', '$9.99', '$7.49', '$0.99', '$9.00', '$5.49',\n",
       "       '$10.00', '$24.99', '$11.99', '$79.99', '$16.99', '$14.99',\n",
       "       '$1.00', '$29.99', '$12.99', '$2.49', '$10.99', '$1.50', '$19.99',\n",
       "       '$15.99', '$33.99', '$74.99', '$39.99', '$3.95', '$4.49', '$1.70',\n",
       "       '$8.99', '$2.00', '$3.88', '$25.99', '$399.99', '$17.99',\n",
       "       '$400.00', '$3.02', '$1.76', '$4.84', '$4.77', '$1.61', '$2.50',\n",
       "       '$1.59', '$6.49', '$1.29', '$5.00', '$13.99', '$299.99', '$379.99',\n",
       "       '$37.99', '$18.99', '$389.99', '$19.90', '$8.49', '$1.75',\n",
       "       '$14.00', '$4.85', '$46.99', '$109.99', '$154.99', '$3.08',\n",
       "       '$2.59', '$4.80', '$1.96', '$19.40', '$3.90', '$4.59', '$15.46',\n",
       "       '$3.04', '$4.29', '$2.60', '$3.28', '$4.60', '$28.99', '$2.95',\n",
       "       '$2.90', '$1.97', '$200.00', '$89.99', '$2.56', '$30.99', '$3.61',\n",
       "       '$394.99', '$1.26', '$1.20', '$1.04'], dtype=object)"
      ]
     },
     "execution_count": 25,
     "metadata": {},
     "output_type": "execute_result"
    }
   ],
   "source": [
    "df_googleplaystore['Price'].unique()"
   ]
  },
  {
   "cell_type": "markdown",
   "metadata": {},
   "source": [
    "As shown, the prices in the column is with '$' sign. We will drop it."
   ]
  },
  {
   "cell_type": "code",
   "execution_count": 26,
   "metadata": {},
   "outputs": [
    {
     "data": {
      "text/plain": [
       "array(['0', '4.99', '3.99', '6.99', '1.49', '2.99', '7.99', '5.99',\n",
       "       '3.49', '1.99', '9.99', '7.49', '0.99', '9.00', '5.49', '10.00',\n",
       "       '24.99', '11.99', '79.99', '16.99', '14.99', '1.00', '29.99',\n",
       "       '12.99', '2.49', '10.99', '1.50', '19.99', '15.99', '33.99',\n",
       "       '74.99', '39.99', '3.95', '4.49', '1.70', '8.99', '2.00', '3.88',\n",
       "       '25.99', '399.99', '17.99', '400.00', '3.02', '1.76', '4.84',\n",
       "       '4.77', '1.61', '2.50', '1.59', '6.49', '1.29', '5.00', '13.99',\n",
       "       '299.99', '379.99', '37.99', '18.99', '389.99', '19.90', '8.49',\n",
       "       '1.75', '14.00', '4.85', '46.99', '109.99', '154.99', '3.08',\n",
       "       '2.59', '4.80', '1.96', '19.40', '3.90', '4.59', '15.46', '3.04',\n",
       "       '4.29', '2.60', '3.28', '4.60', '28.99', '2.95', '2.90', '1.97',\n",
       "       '200.00', '89.99', '2.56', '30.99', '3.61', '394.99', '1.26',\n",
       "       '1.20', '1.04'], dtype=object)"
      ]
     },
     "execution_count": 26,
     "metadata": {},
     "output_type": "execute_result"
    }
   ],
   "source": [
    "df_googleplaystore['Price'] = df_googleplaystore['Price'].apply(lambda x: x.strip('$'))\n",
    "df_googleplaystore['Price'].unique()"
   ]
  },
  {
   "cell_type": "code",
   "execution_count": 27,
   "metadata": {},
   "outputs": [],
   "source": [
    "df_googleplaystore['Price'] = pd.to_numeric(df_googleplaystore['Price']) # convert to numeric"
   ]
  },
  {
   "cell_type": "markdown",
   "metadata": {},
   "source": [
    "## Editing the data"
   ]
  },
  {
   "cell_type": "markdown",
   "metadata": {},
   "source": [
    "#### Last Updated"
   ]
  },
  {
   "cell_type": "markdown",
   "metadata": {},
   "source": [
    "As said before, the 'Last Updated' column is only categorial in memory, but actually represent date. <br>\n",
    "We will convert it."
   ]
  },
  {
   "cell_type": "code",
   "execution_count": 28,
   "metadata": {},
   "outputs": [],
   "source": [
    "df_googleplaystore['Last Updated'] = pd.to_datetime(df_googleplaystore['Last Updated']) # converting from string to date\n",
    "df_googleplaystore['Last Updated'] = df_googleplaystore['Last Updated'].apply(lambda x: x.value)"
   ]
  },
  {
   "cell_type": "markdown",
   "metadata": {},
   "source": [
    "#### Category"
   ]
  },
  {
   "cell_type": "code",
   "execution_count": 29,
   "metadata": {},
   "outputs": [
    {
     "data": {
      "text/plain": [
       "array(['ART_AND_DESIGN', 'AUTO_AND_VEHICLES', 'BEAUTY',\n",
       "       'BOOKS_AND_REFERENCE', 'BUSINESS', 'COMICS', 'COMMUNICATION',\n",
       "       'DATING', 'EDUCATION', 'ENTERTAINMENT', 'EVENTS', 'FINANCE',\n",
       "       'FOOD_AND_DRINK', 'HEALTH_AND_FITNESS', 'HOUSE_AND_HOME',\n",
       "       'LIBRARIES_AND_DEMO', 'LIFESTYLE', 'GAME', 'FAMILY', 'MEDICAL',\n",
       "       'SOCIAL', 'SHOPPING', 'PHOTOGRAPHY', 'SPORTS', 'TRAVEL_AND_LOCAL',\n",
       "       'TOOLS', 'PERSONALIZATION', 'PRODUCTIVITY', 'PARENTING', 'WEATHER',\n",
       "       'VIDEO_PLAYERS', 'NEWS_AND_MAGAZINES', 'MAPS_AND_NAVIGATION'],\n",
       "      dtype=object)"
      ]
     },
     "execution_count": 29,
     "metadata": {},
     "output_type": "execute_result"
    }
   ],
   "source": [
    "df_googleplaystore['Category'].unique()"
   ]
  },
  {
   "cell_type": "markdown",
   "metadata": {},
   "source": [
    "As shown, the values contain '_' sign so we will replace it with spaces and convert to lowercase for convenience."
   ]
  },
  {
   "cell_type": "code",
   "execution_count": 30,
   "metadata": {},
   "outputs": [],
   "source": [
    "# replacing underlines with spaces and converting to lowercase \n",
    "df_googleplaystore['Category'] = df_googleplaystore['Category'].apply(lambda x: x.replace(\"_\", \" \")).str.lower() "
   ]
  },
  {
   "cell_type": "markdown",
   "metadata": {},
   "source": [
    "#### Genres"
   ]
  },
  {
   "cell_type": "markdown",
   "metadata": {},
   "source": [
    "As we mentioned above, an app can belong to multiple genres (apart from its main category). <br>\n",
    "We discovered that most of the apps belong to a single genre while only a few belong to, besides from it's main category, other categories. <br>\n",
    "We choose to convert the 'Genres' column to contain the number of categories which the app belongs to. <br>\n",
    "We choose this method because most of the apps does not have secondary categories, therefore we believe that the number of catrgories which the app belongs to could have a more significant meaning than the name of the secondary categories."
   ]
  },
  {
   "cell_type": "code",
   "execution_count": 31,
   "metadata": {},
   "outputs": [
    {
     "data": {
      "text/html": [
       "<div>\n",
       "<style scoped>\n",
       "    .dataframe tbody tr th:only-of-type {\n",
       "        vertical-align: middle;\n",
       "    }\n",
       "\n",
       "    .dataframe tbody tr th {\n",
       "        vertical-align: top;\n",
       "    }\n",
       "\n",
       "    .dataframe thead th {\n",
       "        text-align: right;\n",
       "    }\n",
       "</style>\n",
       "<table border=\"1\" class=\"dataframe\">\n",
       "  <thead>\n",
       "    <tr style=\"text-align: right;\">\n",
       "      <th></th>\n",
       "      <th>App</th>\n",
       "      <th>Category</th>\n",
       "      <th>Rating</th>\n",
       "      <th>Reviews</th>\n",
       "      <th>Size</th>\n",
       "      <th>Installs</th>\n",
       "      <th>Type</th>\n",
       "      <th>Price</th>\n",
       "      <th>Content Rating</th>\n",
       "      <th>Genres</th>\n",
       "      <th>Last Updated</th>\n",
       "      <th>Current Ver</th>\n",
       "      <th>Android Ver</th>\n",
       "      <th>Number of Categories</th>\n",
       "    </tr>\n",
       "  </thead>\n",
       "  <tbody>\n",
       "    <tr>\n",
       "      <th>9655</th>\n",
       "      <td>Sya9a Maroc - FR</td>\n",
       "      <td>family</td>\n",
       "      <td>4.5</td>\n",
       "      <td>38</td>\n",
       "      <td>53.0</td>\n",
       "      <td>5000</td>\n",
       "      <td>Free</td>\n",
       "      <td>0.0</td>\n",
       "      <td>Everyone</td>\n",
       "      <td>Education</td>\n",
       "      <td>1500940800000000000</td>\n",
       "      <td>1.48</td>\n",
       "      <td>4.1 and up</td>\n",
       "      <td>2</td>\n",
       "    </tr>\n",
       "    <tr>\n",
       "      <th>9656</th>\n",
       "      <td>Fr. Mike Schmitz Audio Teachings</td>\n",
       "      <td>family</td>\n",
       "      <td>5.0</td>\n",
       "      <td>4</td>\n",
       "      <td>3.6</td>\n",
       "      <td>100</td>\n",
       "      <td>Free</td>\n",
       "      <td>0.0</td>\n",
       "      <td>Everyone</td>\n",
       "      <td>Education</td>\n",
       "      <td>1530835200000000000</td>\n",
       "      <td>1.0</td>\n",
       "      <td>4.1 and up</td>\n",
       "      <td>2</td>\n",
       "    </tr>\n",
       "    <tr>\n",
       "      <th>9657</th>\n",
       "      <td>Parkinson Exercices FR</td>\n",
       "      <td>medical</td>\n",
       "      <td>4.3</td>\n",
       "      <td>3</td>\n",
       "      <td>9.5</td>\n",
       "      <td>1000</td>\n",
       "      <td>Free</td>\n",
       "      <td>0.0</td>\n",
       "      <td>Everyone</td>\n",
       "      <td>Medical</td>\n",
       "      <td>1484870400000000000</td>\n",
       "      <td>1.0</td>\n",
       "      <td>2.2 and up</td>\n",
       "      <td>1</td>\n",
       "    </tr>\n",
       "    <tr>\n",
       "      <th>9658</th>\n",
       "      <td>The SCP Foundation DB fr nn5n</td>\n",
       "      <td>books and reference</td>\n",
       "      <td>4.5</td>\n",
       "      <td>114</td>\n",
       "      <td>12.0</td>\n",
       "      <td>1000</td>\n",
       "      <td>Free</td>\n",
       "      <td>0.0</td>\n",
       "      <td>Mature 17+</td>\n",
       "      <td>Books &amp; Reference</td>\n",
       "      <td>1421625600000000000</td>\n",
       "      <td>Varies with device</td>\n",
       "      <td>Varies with device</td>\n",
       "      <td>1</td>\n",
       "    </tr>\n",
       "    <tr>\n",
       "      <th>9659</th>\n",
       "      <td>iHoroscope - 2018 Daily Horoscope &amp; Astrology</td>\n",
       "      <td>lifestyle</td>\n",
       "      <td>4.5</td>\n",
       "      <td>398307</td>\n",
       "      <td>19.0</td>\n",
       "      <td>10000000</td>\n",
       "      <td>Free</td>\n",
       "      <td>0.0</td>\n",
       "      <td>Everyone</td>\n",
       "      <td>Lifestyle</td>\n",
       "      <td>1532476800000000000</td>\n",
       "      <td>Varies with device</td>\n",
       "      <td>Varies with device</td>\n",
       "      <td>1</td>\n",
       "    </tr>\n",
       "  </tbody>\n",
       "</table>\n",
       "</div>"
      ],
      "text/plain": [
       "                                                App             Category  \\\n",
       "9655                               Sya9a Maroc - FR               family   \n",
       "9656               Fr. Mike Schmitz Audio Teachings               family   \n",
       "9657                         Parkinson Exercices FR              medical   \n",
       "9658                  The SCP Foundation DB fr nn5n  books and reference   \n",
       "9659  iHoroscope - 2018 Daily Horoscope & Astrology            lifestyle   \n",
       "\n",
       "      Rating  Reviews  Size  Installs  Type  Price Content Rating  \\\n",
       "9655     4.5       38  53.0      5000  Free    0.0       Everyone   \n",
       "9656     5.0        4   3.6       100  Free    0.0       Everyone   \n",
       "9657     4.3        3   9.5      1000  Free    0.0       Everyone   \n",
       "9658     4.5      114  12.0      1000  Free    0.0     Mature 17+   \n",
       "9659     4.5   398307  19.0  10000000  Free    0.0       Everyone   \n",
       "\n",
       "                 Genres         Last Updated         Current Ver  \\\n",
       "9655          Education  1500940800000000000                1.48   \n",
       "9656          Education  1530835200000000000                 1.0   \n",
       "9657            Medical  1484870400000000000                 1.0   \n",
       "9658  Books & Reference  1421625600000000000  Varies with device   \n",
       "9659          Lifestyle  1532476800000000000  Varies with device   \n",
       "\n",
       "             Android Ver  Number of Categories  \n",
       "9655          4.1 and up                     2  \n",
       "9656          4.1 and up                     2  \n",
       "9657          2.2 and up                     1  \n",
       "9658  Varies with device                     1  \n",
       "9659  Varies with device                     1  "
      ]
     },
     "execution_count": 31,
     "metadata": {},
     "output_type": "execute_result"
    }
   ],
   "source": [
    "# replacing '&' with 'and' and converting to lowercase \n",
    "df_googleplaystore['Number of Categories'] = df_googleplaystore['Genres'].apply(lambda x: x.replace(\"&\", \"and\")).str.lower()\n",
    "# converting to list and adding a temporary column\n",
    "df_googleplaystore['Number of Categories'] = df_googleplaystore['Number of Categories'].apply(lambda x: x.split(\";\"))\n",
    "df_googleplaystore['Genres0'] = df_googleplaystore['Number of Categories'].apply(lambda x: x[0])\n",
    "# changing the 'Genres' column to contain the total number of categories \n",
    "wanted_rows = (df_googleplaystore['Genres0'] == df_googleplaystore['Category'])\n",
    "df_googleplaystore.loc[wanted_rows, 'Number of Categories'] = pd.DataFrame(df_googleplaystore.loc[wanted_rows, 'Number of Categories'].apply(lambda x: len(x)))\n",
    "wanted_rows = (df_googleplaystore['Genres0'] != df_googleplaystore['Category'])\n",
    "df_googleplaystore.loc[wanted_rows, 'Number of Categories'] = pd.DataFrame(df_googleplaystore.loc[wanted_rows, 'Number of Categories'].apply(lambda x: (len(x)+1)))\n",
    "# deleting the temporary column\n",
    "df_googleplaystore.drop(columns='Genres0', inplace=True)\n",
    "# converting the new column from categorial to numeric\n",
    "df_googleplaystore['Number of Categories'] = pd.to_numeric(df_googleplaystore['Number of Categories'])\n",
    "df_googleplaystore.tail()"
   ]
  },
  {
   "cell_type": "markdown",
   "metadata": {},
   "source": [
    "For example, notice that in row 9656 the main category is 'family' while the genre is 'Education', which means this app belong to 2 categories, therefore in the 'Number Of Categories' column the value is 2. <br>\n",
    "Another example is in row 9658. This app's main category is 'books and reference' and the genre is 'Books & Reference', which is the same category, therefore in the 'Number Of Categories' column the value is 1."
   ]
  },
  {
   "cell_type": "code",
   "execution_count": 32,
   "metadata": {},
   "outputs": [
    {
     "data": {
      "text/plain": [
       "1    6642\n",
       "2    2666\n",
       "3     338\n",
       "Name: Number of Categories, dtype: int64"
      ]
     },
     "execution_count": 32,
     "metadata": {},
     "output_type": "execute_result"
    }
   ],
   "source": [
    "df_googleplaystore['Number of Categories'].value_counts()"
   ]
  },
  {
   "cell_type": "markdown",
   "metadata": {},
   "source": [
    "As shown and said before, most of the apps belong to a single category."
   ]
  },
  {
   "cell_type": "markdown",
   "metadata": {},
   "source": [
    "## Final Information"
   ]
  },
  {
   "cell_type": "code",
   "execution_count": 33,
   "metadata": {
    "scrolled": false
   },
   "outputs": [
    {
     "data": {
      "text/html": [
       "<div>\n",
       "<style scoped>\n",
       "    .dataframe tbody tr th:only-of-type {\n",
       "        vertical-align: middle;\n",
       "    }\n",
       "\n",
       "    .dataframe tbody tr th {\n",
       "        vertical-align: top;\n",
       "    }\n",
       "\n",
       "    .dataframe thead th {\n",
       "        text-align: right;\n",
       "    }\n",
       "</style>\n",
       "<table border=\"1\" class=\"dataframe\">\n",
       "  <thead>\n",
       "    <tr style=\"text-align: right;\">\n",
       "      <th></th>\n",
       "      <th>Rating</th>\n",
       "      <th>Reviews</th>\n",
       "      <th>Size</th>\n",
       "      <th>Installs</th>\n",
       "      <th>Price</th>\n",
       "      <th>Last Updated</th>\n",
       "      <th>Number of Categories</th>\n",
       "    </tr>\n",
       "  </thead>\n",
       "  <tbody>\n",
       "    <tr>\n",
       "      <th>count</th>\n",
       "      <td>9646.000000</td>\n",
       "      <td>9.646000e+03</td>\n",
       "      <td>9646.000000</td>\n",
       "      <td>9.646000e+03</td>\n",
       "      <td>9646.000000</td>\n",
       "      <td>9.646000e+03</td>\n",
       "      <td>9646.000000</td>\n",
       "    </tr>\n",
       "    <tr>\n",
       "      <th>mean</th>\n",
       "      <td>4.192463</td>\n",
       "      <td>2.168818e+05</td>\n",
       "      <td>19.347508</td>\n",
       "      <td>7.787820e+06</td>\n",
       "      <td>1.100421</td>\n",
       "      <td>1.509438e+18</td>\n",
       "      <td>1.346465</td>\n",
       "    </tr>\n",
       "    <tr>\n",
       "      <th>std</th>\n",
       "      <td>0.496601</td>\n",
       "      <td>1.832536e+06</td>\n",
       "      <td>20.591579</td>\n",
       "      <td>5.379376e+07</td>\n",
       "      <td>16.863467</td>\n",
       "      <td>3.507253e+16</td>\n",
       "      <td>0.544554</td>\n",
       "    </tr>\n",
       "    <tr>\n",
       "      <th>min</th>\n",
       "      <td>1.000000</td>\n",
       "      <td>0.000000e+00</td>\n",
       "      <td>0.008000</td>\n",
       "      <td>0.000000e+00</td>\n",
       "      <td>0.000000</td>\n",
       "      <td>1.274400e+18</td>\n",
       "      <td>1.000000</td>\n",
       "    </tr>\n",
       "    <tr>\n",
       "      <th>25%</th>\n",
       "      <td>4.000000</td>\n",
       "      <td>2.500000e+01</td>\n",
       "      <td>5.300000</td>\n",
       "      <td>1.000000e+03</td>\n",
       "      <td>0.000000</td>\n",
       "      <td>1.502150e+18</td>\n",
       "      <td>1.000000</td>\n",
       "    </tr>\n",
       "    <tr>\n",
       "      <th>50%</th>\n",
       "      <td>4.300000</td>\n",
       "      <td>9.690000e+02</td>\n",
       "      <td>12.000000</td>\n",
       "      <td>1.000000e+05</td>\n",
       "      <td>0.000000</td>\n",
       "      <td>1.525478e+18</td>\n",
       "      <td>1.000000</td>\n",
       "    </tr>\n",
       "    <tr>\n",
       "      <th>75%</th>\n",
       "      <td>4.500000</td>\n",
       "      <td>2.945775e+04</td>\n",
       "      <td>25.000000</td>\n",
       "      <td>1.000000e+06</td>\n",
       "      <td>0.000000</td>\n",
       "      <td>1.531786e+18</td>\n",
       "      <td>2.000000</td>\n",
       "    </tr>\n",
       "    <tr>\n",
       "      <th>max</th>\n",
       "      <td>5.000000</td>\n",
       "      <td>7.815831e+07</td>\n",
       "      <td>100.000000</td>\n",
       "      <td>1.000000e+09</td>\n",
       "      <td>400.000000</td>\n",
       "      <td>1.533686e+18</td>\n",
       "      <td>3.000000</td>\n",
       "    </tr>\n",
       "  </tbody>\n",
       "</table>\n",
       "</div>"
      ],
      "text/plain": [
       "            Rating       Reviews         Size      Installs        Price  \\\n",
       "count  9646.000000  9.646000e+03  9646.000000  9.646000e+03  9646.000000   \n",
       "mean      4.192463  2.168818e+05    19.347508  7.787820e+06     1.100421   \n",
       "std       0.496601  1.832536e+06    20.591579  5.379376e+07    16.863467   \n",
       "min       1.000000  0.000000e+00     0.008000  0.000000e+00     0.000000   \n",
       "25%       4.000000  2.500000e+01     5.300000  1.000000e+03     0.000000   \n",
       "50%       4.300000  9.690000e+02    12.000000  1.000000e+05     0.000000   \n",
       "75%       4.500000  2.945775e+04    25.000000  1.000000e+06     0.000000   \n",
       "max       5.000000  7.815831e+07   100.000000  1.000000e+09   400.000000   \n",
       "\n",
       "       Last Updated  Number of Categories  \n",
       "count  9.646000e+03           9646.000000  \n",
       "mean   1.509438e+18              1.346465  \n",
       "std    3.507253e+16              0.544554  \n",
       "min    1.274400e+18              1.000000  \n",
       "25%    1.502150e+18              1.000000  \n",
       "50%    1.525478e+18              1.000000  \n",
       "75%    1.531786e+18              2.000000  \n",
       "max    1.533686e+18              3.000000  "
      ]
     },
     "metadata": {},
     "output_type": "display_data"
    },
    {
     "data": {
      "text/html": [
       "<div>\n",
       "<style scoped>\n",
       "    .dataframe tbody tr th:only-of-type {\n",
       "        vertical-align: middle;\n",
       "    }\n",
       "\n",
       "    .dataframe tbody tr th {\n",
       "        vertical-align: top;\n",
       "    }\n",
       "\n",
       "    .dataframe thead th {\n",
       "        text-align: right;\n",
       "    }\n",
       "</style>\n",
       "<table border=\"1\" class=\"dataframe\">\n",
       "  <thead>\n",
       "    <tr style=\"text-align: right;\">\n",
       "      <th></th>\n",
       "      <th>App</th>\n",
       "      <th>Category</th>\n",
       "      <th>Type</th>\n",
       "      <th>Content Rating</th>\n",
       "      <th>Genres</th>\n",
       "      <th>Current Ver</th>\n",
       "      <th>Android Ver</th>\n",
       "    </tr>\n",
       "  </thead>\n",
       "  <tbody>\n",
       "    <tr>\n",
       "      <th>count</th>\n",
       "      <td>9646</td>\n",
       "      <td>9646</td>\n",
       "      <td>9646</td>\n",
       "      <td>9646</td>\n",
       "      <td>9646</td>\n",
       "      <td>9646</td>\n",
       "      <td>9646</td>\n",
       "    </tr>\n",
       "    <tr>\n",
       "      <th>unique</th>\n",
       "      <td>9646</td>\n",
       "      <td>33</td>\n",
       "      <td>2</td>\n",
       "      <td>5</td>\n",
       "      <td>118</td>\n",
       "      <td>2817</td>\n",
       "      <td>33</td>\n",
       "    </tr>\n",
       "    <tr>\n",
       "      <th>top</th>\n",
       "      <td>CF Calculator</td>\n",
       "      <td>family</td>\n",
       "      <td>Free</td>\n",
       "      <td>Everyone</td>\n",
       "      <td>Tools</td>\n",
       "      <td>Varies with device</td>\n",
       "      <td>4.1 and up</td>\n",
       "    </tr>\n",
       "    <tr>\n",
       "      <th>freq</th>\n",
       "      <td>1</td>\n",
       "      <td>1827</td>\n",
       "      <td>8893</td>\n",
       "      <td>7893</td>\n",
       "      <td>823</td>\n",
       "      <td>1054</td>\n",
       "      <td>2202</td>\n",
       "    </tr>\n",
       "  </tbody>\n",
       "</table>\n",
       "</div>"
      ],
      "text/plain": [
       "                  App Category  Type Content Rating Genres  \\\n",
       "count            9646     9646  9646           9646   9646   \n",
       "unique           9646       33     2              5    118   \n",
       "top     CF Calculator   family  Free       Everyone  Tools   \n",
       "freq                1     1827  8893           7893    823   \n",
       "\n",
       "               Current Ver Android Ver  \n",
       "count                 9646        9646  \n",
       "unique                2817          33  \n",
       "top     Varies with device  4.1 and up  \n",
       "freq                  1054        2202  "
      ]
     },
     "metadata": {},
     "output_type": "display_data"
    },
    {
     "name": "stdout",
     "output_type": "stream",
     "text": [
      "<class 'pandas.core.frame.DataFrame'>\n",
      "Int64Index: 9646 entries, 0 to 9659\n",
      "Data columns (total 14 columns):\n",
      " #   Column                Non-Null Count  Dtype  \n",
      "---  ------                --------------  -----  \n",
      " 0   App                   9646 non-null   object \n",
      " 1   Category              9646 non-null   object \n",
      " 2   Rating                9646 non-null   float64\n",
      " 3   Reviews               9646 non-null   int64  \n",
      " 4   Size                  9646 non-null   float64\n",
      " 5   Installs              9646 non-null   int64  \n",
      " 6   Type                  9646 non-null   object \n",
      " 7   Price                 9646 non-null   float64\n",
      " 8   Content Rating        9646 non-null   object \n",
      " 9   Genres                9646 non-null   object \n",
      " 10  Last Updated          9646 non-null   int64  \n",
      " 11  Current Ver           9646 non-null   object \n",
      " 12  Android Ver           9646 non-null   object \n",
      " 13  Number of Categories  9646 non-null   int64  \n",
      "dtypes: float64(3), int64(4), object(7)\n",
      "memory usage: 1.4+ MB\n"
     ]
    },
    {
     "data": {
      "text/plain": [
       "None"
      ]
     },
     "metadata": {},
     "output_type": "display_data"
    },
    {
     "name": "stdout",
     "output_type": "stream",
     "text": [
      "Shape: \t (9646, 14)\n"
     ]
    }
   ],
   "source": [
    "display(df_googleplaystore.describe()) # describes only numerical features\n",
    "display(df_googleplaystore.describe(include=['O'])) # describes only categorial features\n",
    "display(df_googleplaystore.info())\n",
    "print(\"Shape: \\t\" , df_googleplaystore.shape)"
   ]
  },
  {
   "cell_type": "markdown",
   "metadata": {},
   "source": [
    "After the changes, our dataset includes 9646 records and has 14 features. <br>\n",
    "The new types of the columns are:\n",
    "* App - **Categorial**\n",
    "* Category - **Categorial**\n",
    "* Rating - **Numeric**\n",
    "* Reviews - **Numeric**\n",
    "* Size - **Numeric**\n",
    "* Installs - **Numeric**\n",
    "* Type- **Categorial**\n",
    "* Price - **Numeric**\n",
    "* Content Rating - **Categorial**\n",
    "* Genres - **Categorial**\n",
    "* Last Updated - **Numeric-datetime**\n",
    "* Current Ver - **Categorial**\n",
    "* Android Ver - **Categorial**\n",
    "* Number of Categories - **Numeric**"
   ]
  },
  {
   "cell_type": "markdown",
   "metadata": {},
   "source": [
    "# Exploratory data analysis\n",
    "## distribution of variables"
   ]
  },
  {
   "cell_type": "code",
   "execution_count": 34,
   "metadata": {
    "scrolled": false
   },
   "outputs": [
    {
     "data": {
      "image/png": "[encoded data removed]",
      "text/plain": [
       "<Figure size 1080x504 with 1 Axes>"
      ]
     },
     "metadata": {
      "needs_background": "light"
     },
     "output_type": "display_data"
    }
   ],
   "source": [
    "# Distribution of 'Category' column\n",
    "ax = sns.catplot(data = df_googleplaystore, x = 'Category', kind = 'count')\n",
    "ax.set(title = 'Distribution of Category')\n",
    "ax.fig.set_size_inches(15,7)\n",
    "ax.set_xticklabels(rotation=90)\n",
    "plt.show()"
   ]
  },
  {
   "cell_type": "markdown",
   "metadata": {},
   "source": [
    "From the graph, we can observe that 'family' is the most common category and the second is 'game'."
   ]
  },
  {
   "cell_type": "code",
   "execution_count": 35,
   "metadata": {},
   "outputs": [
    {
     "data": {
      "image/png": "[encoded data removed]",
      "text/plain": [
       "<Figure size 360x360 with 1 Axes>"
      ]
     },
     "metadata": {
      "needs_background": "light"
     },
     "output_type": "display_data"
    }
   ],
   "source": [
    "# Distribution of 'Type' column\n",
    "ax = sns.catplot(data = df_googleplaystore, x = 'Type', kind = 'count' , palette='husl')\n",
    "ax.set(title = 'Distribution of Type - Free/Paid')\n",
    "ax.fig.set_size_inches(5,5)\n",
    "plt.show()"
   ]
  },
  {
   "cell_type": "markdown",
   "metadata": {},
   "source": [
    "From the graph, we can observe that most of the apps are free (with a big difference)."
   ]
  },
  {
   "cell_type": "code",
   "execution_count": 36,
   "metadata": {},
   "outputs": [
    {
     "data": {
      "image/png": "[encoded data removed]",
      "text/plain": [
       "<Figure size 720x360 with 1 Axes>"
      ]
     },
     "metadata": {
      "needs_background": "light"
     },
     "output_type": "display_data"
    }
   ],
   "source": [
    "# Distribution of 'Content Rating' column\n",
    "ax = sns.catplot(data = df_googleplaystore, x = 'Content Rating', kind = 'count', palette='husl')\n",
    "ax.set(title = 'Distribution of Content Rating')\n",
    "ax.fig.set_size_inches(10,5)\n",
    "plt.show()"
   ]
  },
  {
   "cell_type": "markdown",
   "metadata": {},
   "source": [
    "From the graph, we can observe that the most common Content Rating in which the apps are targeted for is 'Everyone' and the rarest is 'Adults only 18+'"
   ]
  },
  {
   "cell_type": "code",
   "execution_count": 37,
   "metadata": {},
   "outputs": [
    {
     "data": {
      "image/png": "[encoded data removed]",
      "text/plain": [
       "<Figure size 720x360 with 1 Axes>"
      ]
     },
     "metadata": {
      "needs_background": "light"
     },
     "output_type": "display_data"
    }
   ],
   "source": [
    "# Distribution of 'Rating' column\n",
    "ax = sns.displot(df_googleplaystore, x='Rating' ,bins=np.arange(0,5,0.1))\n",
    "ax.fig.set_size_inches(10,5)\n",
    "ax.set(xlabel='rating score (0-5)', ylabel='count', title='Distribution of Rating')\n",
    "plt.show()"
   ]
  },
  {
   "cell_type": "markdown",
   "metadata": {},
   "source": [
    "From the graph, we can observe that most of the apps overall user rating is between 4 and 5."
   ]
  },
  {
   "cell_type": "code",
   "execution_count": 38,
   "metadata": {},
   "outputs": [
    {
     "data": {
      "image/png": "[encoded data removed]",
      "text/plain": [
       "<Figure size 720x360 with 1 Axes>"
      ]
     },
     "metadata": {
      "needs_background": "light"
     },
     "output_type": "display_data"
    }
   ],
   "source": [
    "# Distribution of 'Size' column\n",
    "ax = sns.displot(df_googleplaystore, x='Size' )#bins=np.arange(0,5,0.1))\n",
    "ax.fig.set_size_inches(10,5)\n",
    "ax.set(xlabel='App size (MB)', ylabel='count', title='Distribution of Size')\n",
    "plt.show()"
   ]
  },
  {
   "cell_type": "markdown",
   "metadata": {},
   "source": [
    "From the graph, we can observe that the majority of the apps' size is between 0 and 20 MB. <br>\n",
    "As we remember we predicted that there will be a lot of apps with 16MB size, because we changed the 'Varies with device' value to the median which is '16'."
   ]
  },
  {
   "cell_type": "code",
   "execution_count": 39,
   "metadata": {},
   "outputs": [
    {
     "data": {
      "image/png": "[encoded data removed]",
      "text/plain": [
       "<Figure size 360x360 with 1 Axes>"
      ]
     },
     "metadata": {
      "needs_background": "light"
     },
     "output_type": "display_data"
    }
   ],
   "source": [
    "# Distribution of 'Number of Categories' column\n",
    "ax = sns.catplot(data = df_googleplaystore, x = 'Number of Categories', kind = 'count' , palette='husl')\n",
    "ax.set(title = 'Distribution of Number of Categories')\n",
    "ax.fig.set_size_inches(5,5)\n",
    "plt.show()"
   ]
  },
  {
   "cell_type": "markdown",
   "metadata": {},
   "source": [
    "From the graph, we can observe that most of the apps belong to one category."
   ]
  },
  {
   "cell_type": "markdown",
   "metadata": {},
   "source": [
    "## Illustrating bivariate relationships"
   ]
  },
  {
   "cell_type": "code",
   "execution_count": 40,
   "metadata": {},
   "outputs": [
    {
     "data": {
      "image/png": "[encoded data removed]",
      "text/plain": [
       "<Figure size 1080x504 with 1 Axes>"
      ]
     },
     "metadata": {
      "needs_background": "light"
     },
     "output_type": "display_data"
    }
   ],
   "source": [
    "# number of reviews vs. rating score\n",
    "ax = sns.relplot(x='Rating', y='Reviews', data=df_googleplaystore)#, height=7, aspect=4)\n",
    "ax.fig.set_size_inches(15,7)\n",
    "ax.set(xlabel='rating score', ylabel='number of reviews', title='number of reviews vs. rating score');"
   ]
  },
  {
   "cell_type": "markdown",
   "metadata": {},
   "source": [
    "From the graph, we can observe that the number of reviews and the rating isn't linear correlated because there is no visible linear trend. <br> Though we can observe that when the rating score is around 4.5 the number of reviews is relatively higher."
   ]
  },
  {
   "cell_type": "code",
   "execution_count": 41,
   "metadata": {},
   "outputs": [
    {
     "data": {
      "image/png": "[encoded data removed]",
      "text/plain": [
       "<Figure size 1080x504 with 1 Axes>"
      ]
     },
     "metadata": {
      "needs_background": "light"
     },
     "output_type": "display_data"
    }
   ],
   "source": [
    "# Category vs. Installs\n",
    "ax = sns.catplot(kind='bar', x='Category', y='Installs', data=df_googleplaystore, height=7, aspect=4)\n",
    "ax.fig.set_size_inches(15,7)\n",
    "ax.set_xticklabels(rotation=90)\n",
    "ax.set(xlabel='category', ylabel='number of installs', title='number of installs vs. category');"
   ]
  },
  {
   "cell_type": "markdown",
   "metadata": {},
   "source": [
    "From the graph, we can observe that the apps with the highest number of installs are categorized as communication apps, the other apps with the next highest number of installs are catogorized: 'video players', 'social', 'entertainment'.<br>\n",
    "Furthermore, we can observe that there is no correlation between the two variables."
   ]
  },
  {
   "cell_type": "code",
   "execution_count": 42,
   "metadata": {},
   "outputs": [
    {
     "data": {
      "image/png": "[encoded data removed]",
      "text/plain": [
       "<Figure size 576x360 with 1 Axes>"
      ]
     },
     "metadata": {
      "needs_background": "light"
     },
     "output_type": "display_data"
    }
   ],
   "source": [
    "# Type vs. Installs\n",
    "ax = sns.catplot(kind='bar', x='Type', y='Installs', data=df_googleplaystore)\n",
    "ax.fig.set_size_inches(8,5)\n",
    "ax.set(xlabel='type', ylabel='number of installs', title='number of installs vs. type');"
   ]
  },
  {
   "cell_type": "markdown",
   "metadata": {},
   "source": [
    "As we can observe from the graph, the apps that are free has a significant higher number of installs.Therefore we can conclude that there is a positive correlation between the 'Type' (Free) and the 'Installs' variables."
   ]
  },
  {
   "cell_type": "code",
   "execution_count": 43,
   "metadata": {},
   "outputs": [
    {
     "data": {
      "image/png": "[encoded data removed]",
      "text/plain": [
       "<Figure size 1080x504 with 1 Axes>"
      ]
     },
     "metadata": {
      "needs_background": "light"
     },
     "output_type": "display_data"
    }
   ],
   "source": [
    "# Category vs. Rating\n",
    "ax = sns.catplot(kind='bar', x='Category', y='Rating', data=df_googleplaystore, height=7, aspect=4)\n",
    "ax.fig.set_size_inches(15,7)\n",
    "ax.set_xticklabels(rotation=90)\n",
    "ax.set(xlabel='category', ylabel='rating score', title='rating score vs. category');"
   ]
  },
  {
   "cell_type": "markdown",
   "metadata": {},
   "source": [
    "As shown in the graph, all of the categories total rating score is higher than 4.<br>\n",
    "There is no correlation between the two variables. "
   ]
  },
  {
   "cell_type": "markdown",
   "metadata": {},
   "source": [
    "# Estimation and hypothesis testing"
   ]
  },
  {
   "cell_type": "markdown",
   "metadata": {},
   "source": [
    "We are classifying an app potential success rate.<br>\n",
    "Our classifier can help a start up company measure the success of it's app prior to releasing it, using the variables - 'Category', 'Size', 'Type', 'Price', 'Content Rating', 'Last Updated', 'Number of Categories', thus helping the company improve the app.\n"
   ]
  },
  {
   "cell_type": "markdown",
   "metadata": {},
   "source": [
    "**Creating new column - Success Rate**, which is calculated by: $$ Success Rate = (Scaled Reviews*Rating) + (Scaled Installes) $$<br> \n",
    "A success of an application is measured by it's Revenue. There are many factors that can affect it. In our data set, we decided that the features that affect the revenue the most are- Installs, Rating. Therefore, our calculation of the success rate is taking in account both the number of installs and the rating score. \n",
    "If the number of reviews is relatively low the standard deviation is large and the overall rating of the app is not accurate, therefore we decided to normalize the number of reviews to a scale of 0 to 1, and multiply the result with the rating value, thus giving value to the level of the accuracy of the rating score. In adddition we chose to normalize the number of installs to a rang of 0 to 5, and add it to the success rate.\n"
   ]
  },
  {
   "cell_type": "markdown",
   "metadata": {},
   "source": [
    "### Dividing the data into 4 groups by the level of success"
   ]
  },
  {
   "cell_type": "markdown",
   "metadata": {},
   "source": [
    "**Scaling the data**\n",
    "In the process of scaling using Sklearn scaler we noticed that for equal values in the 'Installs' column the normalized values of the installs are not equal, therefore we created a simple function using the formula we learned in the lecture.\n",
    "below (in comment) are the code lines we originaly used to normalize the data."
   ]
  },
  {
   "cell_type": "code",
   "execution_count": 44,
   "metadata": {},
   "outputs": [],
   "source": [
    "# normalscaler = MinMaxScaler()\n",
    "# df_googleplaystore['Scaled Reviews'] = pd.DataFrame(normalscaler.fit_transform(pd.DataFrame(df_googleplaystore['Reviews'])),columns=['Reviews'])\n",
    "# scaler_0_5 = MinMaxScaler(feature_range=(0,5))\n",
    "# df_googleplaystore['Scaled Installs'] = pd.DataFrame(scaler_0_5.fit_transform(pd.DataFrame(df_googleplaystore['Installs'])),columns=['Installs'])"
   ]
  },
  {
   "cell_type": "markdown",
   "metadata": {},
   "source": [
    "creating a scaling function to normalize the wanted feature with the formula: $\\dfrac{x_i - min(X)}{max(X) - min(X)}$ "
   ]
  },
  {
   "cell_type": "code",
   "execution_count": 45,
   "metadata": {},
   "outputs": [],
   "source": [
    "def scale(data_set, column, scale_range=1):\n",
    "    column_name = 'Scaled ' + column\n",
    "    max_val = data_set[column].max()\n",
    "    min_val = data_set[column].min()\n",
    "    data_set[column_name] = data_set[column].apply(lambda x: scale_range*(x-min_val)/(max_val-min_val))\n",
    "# scaling the Installs column to 0 to 5 range\n",
    "scale(df_googleplaystore,'Installs',5)\n",
    "# scaling the Installs column to 0 to 5 range\n",
    "scale(df_googleplaystore,'Reviews')"
   ]
  },
  {
   "cell_type": "code",
   "execution_count": 46,
   "metadata": {},
   "outputs": [],
   "source": [
    "# applying the new success rate\n",
    "df_googleplaystore['Success Rate'] = df_googleplaystore['Scaled Reviews']*df_googleplaystore['Rating']+df_googleplaystore['Scaled Installs']"
   ]
  },
  {
   "cell_type": "markdown",
   "metadata": {},
   "source": [
    "**We will define the null hypotesis and the alternative hypotesis:**<br>\n",
    "H0 = The median success rate of an app categorized as 'game' is equal to the median success rate of the rest of the apps.<br>\n",
    "H1 = The median success rate of an app categorized as 'game' is higher than the median success rate of the rest of the apps."
   ]
  },
  {
   "cell_type": "code",
   "execution_count": 47,
   "metadata": {},
   "outputs": [],
   "source": [
    "def diff_of_medians(df, column_name, groupby_var):\n",
    "    grpby_var = df.groupby(groupby_var)\n",
    "    medians = grpby_var[column_name].median()\n",
    "    return medians[1] - medians[0]\n",
    "\n",
    "def bootstrap_median_difference(original_sample, column_name, grouping_var, num_replications):\n",
    "    original_sample_size = original_sample.shape[0]\n",
    "    original_sample_cols_of_interest = original_sample[[column_name, grouping_var]]\n",
    "    bstrap_median_diffs = np.empty(num_replications)\n",
    "    for i in range(num_replications):\n",
    "        bootstrap_sample = original_sample_cols_of_interest.sample(original_sample_size, replace=True)\n",
    "        resampled_median_diff = diff_of_medians(bootstrap_sample, column_name, grouping_var)\n",
    "        bstrap_median_diffs[i] = resampled_median_diff\n",
    "    \n",
    "    return bstrap_median_diffs"
   ]
  },
  {
   "cell_type": "code",
   "execution_count": 48,
   "metadata": {},
   "outputs": [],
   "source": [
    "# adding a feature: is game?\n",
    "wanted_rows = df_googleplaystore['Category'].loc[df_googleplaystore['Category'] == 'game'].index.tolist()\n",
    "game_df = df_googleplaystore\n",
    "game_df['game?'] = 0\n",
    "game_df.loc[wanted_rows, 'game?'] = pd.DataFrame(game_df.loc[wanted_rows, 'game?'].apply(lambda x: 1))\n",
    "\n",
    "bstrap_diffs = bootstrap_median_difference(game_df, 'Success Rate', 'game?',  game_df.shape[0])"
   ]
  },
  {
   "cell_type": "code",
   "execution_count": 49,
   "metadata": {
    "scrolled": false
   },
   "outputs": [
    {
     "name": "stdout",
     "output_type": "stream",
     "text": [
      "lower value:  0.005491243035641024\n",
      "upper value:  0.006890576716184202\n"
     ]
    },
    {
     "data": {
      "image/png": "[encoded data removed]",
      "text/plain": [
       "<Figure size 360x360 with 1 Axes>"
      ]
     },
     "metadata": {
      "needs_background": "light"
     },
     "output_type": "display_data"
    }
   ],
   "source": [
    "left_end = np.percentile(bstrap_diffs, 2.5, interpolation='higher')\n",
    "right_end = np.percentile(bstrap_diffs, 97.5, interpolation='higher')\n",
    "print('lower value: ', left_end)\n",
    "print('upper value: ', right_end)\n",
    "\n",
    "# visualize results\n",
    "facetgrid_obj = sns.displot(bstrap_diffs);\n",
    "facetgrid_obj.axes[0, 0].hlines(y=0, xmin=left_end, xmax=right_end, colors='orange', linestyles='solid', lw=5);  # lw controls thickness of line"
   ]
  },
  {
   "cell_type": "markdown",
   "metadata": {},
   "source": [
    "As we can see in the graph, 0 is not in the confidence interval, therefore we can disproof the null hypothesis.<br>\n",
    "The test statistic in this bootstrap evaluation is the difference between the median of the Success rate of all the apps categorized as game, and the median of the rest of the apps. <br>\n",
    "The null hypothesis claims that there is no difference between the mentioned medoians, therefore if 0 is not in the confidence interval we can disproof the null hypothesis."
   ]
  },
  {
   "cell_type": "markdown",
   "metadata": {},
   "source": [
    "Now we will drop the temporary 'game?' column"
   ]
  },
  {
   "cell_type": "code",
   "execution_count": 50,
   "metadata": {},
   "outputs": [],
   "source": [
    "df_googleplaystore.drop(columns='game?',inplace=True)"
   ]
  },
  {
   "cell_type": "markdown",
   "metadata": {},
   "source": [
    "# Prediction or Clustering"
   ]
  },
  {
   "cell_type": "markdown",
   "metadata": {},
   "source": [
    "**Dividing the data** into 2 groups: 0-75% , 75%-100%"
   ]
  },
  {
   "cell_type": "code",
   "execution_count": 51,
   "metadata": {},
   "outputs": [],
   "source": [
    "precentile_75 = df_googleplaystore.quantile(q = 0.75, interpolation='higher')[8] # finding the 75 percentile value\n",
    "df_googleplaystore['label'] = 0 # creating the 'label' column\n",
    "wanted_rows = df_googleplaystore['Success Rate'].loc[df_googleplaystore['Success Rate'] >= precentile_75].index.tolist() \n",
    "df_googleplaystore.loc[wanted_rows, 'label'] = pd.DataFrame(df_googleplaystore.loc[wanted_rows, 'label'].apply(lambda x: 1)) # replacing 0 with 1 for all higher than 75% value"
   ]
  },
  {
   "cell_type": "markdown",
   "metadata": {},
   "source": [
    "### Dropping unrelevant columns for classification"
   ]
  },
  {
   "cell_type": "code",
   "execution_count": 52,
   "metadata": {},
   "outputs": [
    {
     "data": {
      "text/plain": [
       "989"
      ]
     },
     "execution_count": 52,
     "metadata": {},
     "output_type": "execute_result"
    }
   ],
   "source": [
    "df_googleplaystore.groupby('Android Ver').get_group('Varies with device').shape[0] # number of 'Varies with device' in 'Android Ver' column"
   ]
  },
  {
   "cell_type": "markdown",
   "metadata": {},
   "source": [
    "We chose to drop the following columns: 'App','Success Rate','Rating','Reviews','Installs','Genres','Current Ver','Scaled Reviews','Scaled Installs','Android Ver'.\n",
    "* App - the name of an aplication is not relevant to the classification process\n",
    "* Success Rate - this column was a tool for dividing the data\n",
    "* Rating, Reviews, Installs - the Rating, Installs and Reviews columns are calculated in the success rate column, therefore considering them in the classification process will cause data leakage\n",
    "* Genres - as we explained before, we chose to use the number of genres instead\n",
    "* Scaled reviews, Scaled Installs - were used in the process of calculating the Success Rate therefore are not needed\n",
    "* Current Ver - this value is the version number of the app, it is an internal feature which is not relevant to the classification process\n",
    "* Android Ver - this value is the range of the android version that each app is supported in. We decided to drop this column because there are 989 apps that does not have a specified version range- \"Varies with Device\".<br>\n",
    "It is possible to replace those missing values with the mode. However, there are 33 possible values, therefore if it is not the correct value we are risking in creating a measurement bias. Furthermore, deleting the rows that their values are not specified can cause a selection bias and making the data unrepresentative data sample. Therefore in our opinion the best choice is to not consider this value in the process of classificaion."
   ]
  },
  {
   "cell_type": "code",
   "execution_count": 53,
   "metadata": {
    "scrolled": false
   },
   "outputs": [
    {
     "data": {
      "text/html": [
       "<div>\n",
       "<style scoped>\n",
       "    .dataframe tbody tr th:only-of-type {\n",
       "        vertical-align: middle;\n",
       "    }\n",
       "\n",
       "    .dataframe tbody tr th {\n",
       "        vertical-align: top;\n",
       "    }\n",
       "\n",
       "    .dataframe thead th {\n",
       "        text-align: right;\n",
       "    }\n",
       "</style>\n",
       "<table border=\"1\" class=\"dataframe\">\n",
       "  <thead>\n",
       "    <tr style=\"text-align: right;\">\n",
       "      <th></th>\n",
       "      <th>Category</th>\n",
       "      <th>Size</th>\n",
       "      <th>Type</th>\n",
       "      <th>Price</th>\n",
       "      <th>Content Rating</th>\n",
       "      <th>Last Updated</th>\n",
       "      <th>Number of Categories</th>\n",
       "      <th>label</th>\n",
       "    </tr>\n",
       "  </thead>\n",
       "  <tbody>\n",
       "    <tr>\n",
       "      <th>0</th>\n",
       "      <td>art and design</td>\n",
       "      <td>19.0</td>\n",
       "      <td>Free</td>\n",
       "      <td>0.0</td>\n",
       "      <td>Everyone</td>\n",
       "      <td>1515283200000000000</td>\n",
       "      <td>1</td>\n",
       "      <td>0</td>\n",
       "    </tr>\n",
       "    <tr>\n",
       "      <th>1</th>\n",
       "      <td>art and design</td>\n",
       "      <td>14.0</td>\n",
       "      <td>Free</td>\n",
       "      <td>0.0</td>\n",
       "      <td>Everyone</td>\n",
       "      <td>1515974400000000000</td>\n",
       "      <td>2</td>\n",
       "      <td>1</td>\n",
       "    </tr>\n",
       "    <tr>\n",
       "      <th>2</th>\n",
       "      <td>art and design</td>\n",
       "      <td>8.7</td>\n",
       "      <td>Free</td>\n",
       "      <td>0.0</td>\n",
       "      <td>Everyone</td>\n",
       "      <td>1533081600000000000</td>\n",
       "      <td>1</td>\n",
       "      <td>1</td>\n",
       "    </tr>\n",
       "    <tr>\n",
       "      <th>3</th>\n",
       "      <td>art and design</td>\n",
       "      <td>25.0</td>\n",
       "      <td>Free</td>\n",
       "      <td>0.0</td>\n",
       "      <td>Teen</td>\n",
       "      <td>1528416000000000000</td>\n",
       "      <td>1</td>\n",
       "      <td>1</td>\n",
       "    </tr>\n",
       "    <tr>\n",
       "      <th>4</th>\n",
       "      <td>art and design</td>\n",
       "      <td>2.8</td>\n",
       "      <td>Free</td>\n",
       "      <td>0.0</td>\n",
       "      <td>Everyone</td>\n",
       "      <td>1529452800000000000</td>\n",
       "      <td>2</td>\n",
       "      <td>1</td>\n",
       "    </tr>\n",
       "  </tbody>\n",
       "</table>\n",
       "</div>"
      ],
      "text/plain": [
       "         Category  Size  Type  Price Content Rating         Last Updated  \\\n",
       "0  art and design  19.0  Free    0.0       Everyone  1515283200000000000   \n",
       "1  art and design  14.0  Free    0.0       Everyone  1515974400000000000   \n",
       "2  art and design   8.7  Free    0.0       Everyone  1533081600000000000   \n",
       "3  art and design  25.0  Free    0.0           Teen  1528416000000000000   \n",
       "4  art and design   2.8  Free    0.0       Everyone  1529452800000000000   \n",
       "\n",
       "   Number of Categories  label  \n",
       "0                     1      0  \n",
       "1                     2      1  \n",
       "2                     1      1  \n",
       "3                     1      1  \n",
       "4                     2      1  "
      ]
     },
     "execution_count": 53,
     "metadata": {},
     "output_type": "execute_result"
    }
   ],
   "source": [
    "#cleaning the df for classification\n",
    "clean_df = df_googleplaystore.drop(columns = ['App','Success Rate','Rating','Reviews','Installs','Genres','Current Ver','Scaled Reviews','Scaled Installs','Android Ver'])\n",
    "clean_df.head()"
   ]
  },
  {
   "cell_type": "markdown",
   "metadata": {},
   "source": [
    "### Replacing categorial values with dummy values"
   ]
  },
  {
   "cell_type": "markdown",
   "metadata": {},
   "source": [
    "#### 1. Ordinal Categories"
   ]
  },
  {
   "cell_type": "markdown",
   "metadata": {},
   "source": [
    "* Everyone- targeted to all of the population - **the largest group**\n",
    "* Everyone 10+ - targeted to all of the 10+ population\n",
    "* Mature 17+ - targeted to all of the 17+ population\n",
    "* Adults only 18+ - targeted to all of the 18+ population\n",
    "* Teen - targeted specific to the teen population - **the smallest group** <br>\n",
    "\n",
    "Therefore, we will replace the values to numeric values accordingly (by sizes).<br>\n",
    "In the 'Type' column we will replace the values with: 'Free'=0 , 'Paid'=1"
   ]
  },
  {
   "cell_type": "code",
   "execution_count": 54,
   "metadata": {},
   "outputs": [],
   "source": [
    "clean_df.replace({'Content Rating': {'Everyone': 1, 'Everyone 10+': 2, 'Mature 17+': 3, 'Adults only 18+' :4, 'Teen' : 5}}, inplace=True)\n",
    "clean_df.replace({'Type': {'Free': 0, 'Paid': 1}}, inplace=True)"
   ]
  },
  {
   "cell_type": "markdown",
   "metadata": {},
   "source": [
    "Now we want to explore what are the correlations between 'label' variable and the rest of the variables. Therefore, we will plot a heat map."
   ]
  },
  {
   "cell_type": "code",
   "execution_count": 55,
   "metadata": {},
   "outputs": [
    {
     "data": {
      "image/png": "[encoded data removed]",
      "text/plain": [
       "<Figure size 720x720 with 2 Axes>"
      ]
     },
     "metadata": {
      "needs_background": "light"
     },
     "output_type": "display_data"
    }
   ],
   "source": [
    "# compute correlation between each pair of variables in data frame\n",
    "correlations = clean_df.corr()\n",
    "\n",
    "# plot heat map\n",
    "plt.figure(figsize=(10,10))\n",
    "g=sns.heatmap(correlations,annot=True,cmap=\"RdPu\")"
   ]
  },
  {
   "cell_type": "markdown",
   "metadata": {},
   "source": [
    "As we can see, there is no significant correlation between variables. <br>\n",
    "The highest correlation between 'label' and other variables is between 'label' and 'Size'."
   ]
  },
  {
   "cell_type": "markdown",
   "metadata": {},
   "source": [
    "#### 2. Nominal Categories"
   ]
  },
  {
   "cell_type": "markdown",
   "metadata": {},
   "source": [
    "We will create 'Category' dummy columns by activating the get_dummies function on the 'Category' column."
   ]
  },
  {
   "cell_type": "code",
   "execution_count": 56,
   "metadata": {},
   "outputs": [
    {
     "data": {
      "text/html": [
       "<div>\n",
       "<style scoped>\n",
       "    .dataframe tbody tr th:only-of-type {\n",
       "        vertical-align: middle;\n",
       "    }\n",
       "\n",
       "    .dataframe tbody tr th {\n",
       "        vertical-align: top;\n",
       "    }\n",
       "\n",
       "    .dataframe thead th {\n",
       "        text-align: right;\n",
       "    }\n",
       "</style>\n",
       "<table border=\"1\" class=\"dataframe\">\n",
       "  <thead>\n",
       "    <tr style=\"text-align: right;\">\n",
       "      <th></th>\n",
       "      <th>Size</th>\n",
       "      <th>Type</th>\n",
       "      <th>Price</th>\n",
       "      <th>Content Rating</th>\n",
       "      <th>Last Updated</th>\n",
       "      <th>Number of Categories</th>\n",
       "      <th>label</th>\n",
       "      <th>Category_auto and vehicles</th>\n",
       "      <th>Category_beauty</th>\n",
       "      <th>Category_books and reference</th>\n",
       "      <th>...</th>\n",
       "      <th>Category_personalization</th>\n",
       "      <th>Category_photography</th>\n",
       "      <th>Category_productivity</th>\n",
       "      <th>Category_shopping</th>\n",
       "      <th>Category_social</th>\n",
       "      <th>Category_sports</th>\n",
       "      <th>Category_tools</th>\n",
       "      <th>Category_travel and local</th>\n",
       "      <th>Category_video players</th>\n",
       "      <th>Category_weather</th>\n",
       "    </tr>\n",
       "  </thead>\n",
       "  <tbody>\n",
       "    <tr>\n",
       "      <th>0</th>\n",
       "      <td>19.0</td>\n",
       "      <td>0</td>\n",
       "      <td>0.0</td>\n",
       "      <td>1</td>\n",
       "      <td>1515283200000000000</td>\n",
       "      <td>1</td>\n",
       "      <td>0</td>\n",
       "      <td>0</td>\n",
       "      <td>0</td>\n",
       "      <td>0</td>\n",
       "      <td>...</td>\n",
       "      <td>0</td>\n",
       "      <td>0</td>\n",
       "      <td>0</td>\n",
       "      <td>0</td>\n",
       "      <td>0</td>\n",
       "      <td>0</td>\n",
       "      <td>0</td>\n",
       "      <td>0</td>\n",
       "      <td>0</td>\n",
       "      <td>0</td>\n",
       "    </tr>\n",
       "    <tr>\n",
       "      <th>1</th>\n",
       "      <td>14.0</td>\n",
       "      <td>0</td>\n",
       "      <td>0.0</td>\n",
       "      <td>1</td>\n",
       "      <td>1515974400000000000</td>\n",
       "      <td>2</td>\n",
       "      <td>1</td>\n",
       "      <td>0</td>\n",
       "      <td>0</td>\n",
       "      <td>0</td>\n",
       "      <td>...</td>\n",
       "      <td>0</td>\n",
       "      <td>0</td>\n",
       "      <td>0</td>\n",
       "      <td>0</td>\n",
       "      <td>0</td>\n",
       "      <td>0</td>\n",
       "      <td>0</td>\n",
       "      <td>0</td>\n",
       "      <td>0</td>\n",
       "      <td>0</td>\n",
       "    </tr>\n",
       "    <tr>\n",
       "      <th>2</th>\n",
       "      <td>8.7</td>\n",
       "      <td>0</td>\n",
       "      <td>0.0</td>\n",
       "      <td>1</td>\n",
       "      <td>1533081600000000000</td>\n",
       "      <td>1</td>\n",
       "      <td>1</td>\n",
       "      <td>0</td>\n",
       "      <td>0</td>\n",
       "      <td>0</td>\n",
       "      <td>...</td>\n",
       "      <td>0</td>\n",
       "      <td>0</td>\n",
       "      <td>0</td>\n",
       "      <td>0</td>\n",
       "      <td>0</td>\n",
       "      <td>0</td>\n",
       "      <td>0</td>\n",
       "      <td>0</td>\n",
       "      <td>0</td>\n",
       "      <td>0</td>\n",
       "    </tr>\n",
       "    <tr>\n",
       "      <th>3</th>\n",
       "      <td>25.0</td>\n",
       "      <td>0</td>\n",
       "      <td>0.0</td>\n",
       "      <td>5</td>\n",
       "      <td>1528416000000000000</td>\n",
       "      <td>1</td>\n",
       "      <td>1</td>\n",
       "      <td>0</td>\n",
       "      <td>0</td>\n",
       "      <td>0</td>\n",
       "      <td>...</td>\n",
       "      <td>0</td>\n",
       "      <td>0</td>\n",
       "      <td>0</td>\n",
       "      <td>0</td>\n",
       "      <td>0</td>\n",
       "      <td>0</td>\n",
       "      <td>0</td>\n",
       "      <td>0</td>\n",
       "      <td>0</td>\n",
       "      <td>0</td>\n",
       "    </tr>\n",
       "    <tr>\n",
       "      <th>4</th>\n",
       "      <td>2.8</td>\n",
       "      <td>0</td>\n",
       "      <td>0.0</td>\n",
       "      <td>1</td>\n",
       "      <td>1529452800000000000</td>\n",
       "      <td>2</td>\n",
       "      <td>1</td>\n",
       "      <td>0</td>\n",
       "      <td>0</td>\n",
       "      <td>0</td>\n",
       "      <td>...</td>\n",
       "      <td>0</td>\n",
       "      <td>0</td>\n",
       "      <td>0</td>\n",
       "      <td>0</td>\n",
       "      <td>0</td>\n",
       "      <td>0</td>\n",
       "      <td>0</td>\n",
       "      <td>0</td>\n",
       "      <td>0</td>\n",
       "      <td>0</td>\n",
       "    </tr>\n",
       "  </tbody>\n",
       "</table>\n",
       "<p>5 rows × 39 columns</p>\n",
       "</div>"
      ],
      "text/plain": [
       "   Size  Type  Price  Content Rating         Last Updated  \\\n",
       "0  19.0     0    0.0               1  1515283200000000000   \n",
       "1  14.0     0    0.0               1  1515974400000000000   \n",
       "2   8.7     0    0.0               1  1533081600000000000   \n",
       "3  25.0     0    0.0               5  1528416000000000000   \n",
       "4   2.8     0    0.0               1  1529452800000000000   \n",
       "\n",
       "   Number of Categories  label  Category_auto and vehicles  Category_beauty  \\\n",
       "0                     1      0                           0                0   \n",
       "1                     2      1                           0                0   \n",
       "2                     1      1                           0                0   \n",
       "3                     1      1                           0                0   \n",
       "4                     2      1                           0                0   \n",
       "\n",
       "   Category_books and reference  ...  Category_personalization  \\\n",
       "0                             0  ...                         0   \n",
       "1                             0  ...                         0   \n",
       "2                             0  ...                         0   \n",
       "3                             0  ...                         0   \n",
       "4                             0  ...                         0   \n",
       "\n",
       "   Category_photography  Category_productivity  Category_shopping  \\\n",
       "0                     0                      0                  0   \n",
       "1                     0                      0                  0   \n",
       "2                     0                      0                  0   \n",
       "3                     0                      0                  0   \n",
       "4                     0                      0                  0   \n",
       "\n",
       "   Category_social  Category_sports  Category_tools  \\\n",
       "0                0                0               0   \n",
       "1                0                0               0   \n",
       "2                0                0               0   \n",
       "3                0                0               0   \n",
       "4                0                0               0   \n",
       "\n",
       "   Category_travel and local  Category_video players  Category_weather  \n",
       "0                          0                       0                 0  \n",
       "1                          0                       0                 0  \n",
       "2                          0                       0                 0  \n",
       "3                          0                       0                 0  \n",
       "4                          0                       0                 0  \n",
       "\n",
       "[5 rows x 39 columns]"
      ]
     },
     "execution_count": 56,
     "metadata": {},
     "output_type": "execute_result"
    }
   ],
   "source": [
    "clean_df = pd.get_dummies(clean_df, columns=['Category'], drop_first=True)\n",
    "clean_df.head()"
   ]
  },
  {
   "cell_type": "markdown",
   "metadata": {},
   "source": [
    "### Dividing the data into train\\test and scaling the data"
   ]
  },
  {
   "cell_type": "code",
   "execution_count": 57,
   "metadata": {},
   "outputs": [],
   "source": [
    "tempdf = clean_df.drop(columns= 'label')\n",
    "tempdf['label'] = clean_df['label']\n",
    "X = tempdf.iloc[:, :-1].values # features\n",
    "Y = tempdf.iloc[:, -1].values # labels\n",
    "X_train, X_test, Y_train, Y_test = train_test_split(X, Y, test_size=0.20)\n",
    "\n",
    "scaler = StandardScaler()\n",
    "scaled_X_train = scaler.fit_transform(X_train)\n",
    "scaled_X_test = scaler.transform(X_test)"
   ]
  },
  {
   "cell_type": "markdown",
   "metadata": {},
   "source": [
    "### Testing the classifier using K-fold cross validation (5 folds)"
   ]
  },
  {
   "cell_type": "code",
   "execution_count": 58,
   "metadata": {
    "scrolled": true
   },
   "outputs": [],
   "source": [
    "k_avg_score = np.zeros(21)\n",
    "for k in range(1, 21):\n",
    "    knn_model = KNeighborsClassifier(n_neighbors=k)\n",
    "    cv_scores = cross_val_score(knn_model, scaled_X_train, Y_train, cv=5)\n",
    "    k_avg_score[k] = cv_scores.mean()"
   ]
  },
  {
   "cell_type": "code",
   "execution_count": 59,
   "metadata": {},
   "outputs": [
    {
     "data": {
      "image/png": "[encoded data removed]",
      "text/plain": [
       "<Figure size 576x432 with 1 Axes>"
      ]
     },
     "metadata": {
      "needs_background": "light"
     },
     "output_type": "display_data"
    }
   ],
   "source": [
    "fig, ax = plt.subplots()\n",
    "ax.plot(k_avg_score)\n",
    "ax.set_xticks(np.arange(0, 21));\n",
    "ax.set_ylim(0, 1)\n",
    "ax.scatter(np.argmax(k_avg_score), np.max(k_avg_score))\n",
    "fig.set_size_inches(8, 6)\n",
    "fig.suptitle('Average scores of 5-fold cross validation vs. number of neighbors (K) in KNN')\n",
    "ax.set_xlabel('number of neighbors (K) in KNN model')\n",
    "ax.set_ylabel('Average accuracy of 5-fold cross validation');"
   ]
  },
  {
   "cell_type": "code",
   "execution_count": 60,
   "metadata": {},
   "outputs": [
    {
     "name": "stdout",
     "output_type": "stream",
     "text": [
      "best average accuracy score is: 0.7172107696802206, for number of neighbors(K) = 19\n"
     ]
    }
   ],
   "source": [
    "print(f\"best average accuracy score is: {np.max(k_avg_score)}, for number of neighbors(K) = {np.argmax(k_avg_score)}\")"
   ]
  },
  {
   "cell_type": "code",
   "execution_count": 61,
   "metadata": {},
   "outputs": [
    {
     "name": "stdout",
     "output_type": "stream",
     "text": [
      "Test accuracy score is: 0.7145077720207254\n"
     ]
    }
   ],
   "source": [
    "knn = KNeighborsClassifier(n_neighbors=np.argmax(k_avg_score))\n",
    "knn.fit(scaled_X_train, Y_train)\n",
    "\n",
    "# test the model on the test set\n",
    "test_score = knn.score(scaled_X_test, Y_test)\n",
    "print(f\"Test accuracy score is: {test_score}\")"
   ]
  },
  {
   "cell_type": "markdown",
   "metadata": {},
   "source": [
    "Our classifier recieves the variables: 'Category', 'Size', 'Type', 'Price', 'Content Rating', 'Last Updated' and 'Number of Categories', and returns the classification of the app - above 75 percentile value (out of our original sample). thus understanding whether the app will probably be successful. <br>\n",
    "As we can see, our classifier's accuracy score is above 0.7."
   ]
  },
  {
   "cell_type": "markdown",
   "metadata": {},
   "source": [
    "# Bonus"
   ]
  },
  {
   "cell_type": "markdown",
   "metadata": {},
   "source": [
    "In this section, we found an additional dataset which is related to our original dataset. <br>\n",
    "This dataset contains information about user reviews, including the sentiment of the review (Positive/Negative/Neutral). <br>\n",
    "We decided to explore further and check if there is a correlation between the sentiment of the review and the rating score of an app. This question intriged us because we wanted to allow companies to relay only on the Rating Score, without the need to conduct a text analysis research on the reviews themseleves. If there will be a correlation, the process of text analysis will be redundant and the compnies will be able to neglect the reviews.<br> \n",
    "In order to do so, for each app we will calculate the number of positive sentiments and then we will combine the two datasets (by app name). Then, we will calculate the positive percent of each app (out of the total number of reviews) and plot the result."
   ]
  },
  {
   "cell_type": "code",
   "execution_count": 62,
   "metadata": {},
   "outputs": [
    {
     "data": {
      "text/html": [
       "<div>\n",
       "<style scoped>\n",
       "    .dataframe tbody tr th:only-of-type {\n",
       "        vertical-align: middle;\n",
       "    }\n",
       "\n",
       "    .dataframe tbody tr th {\n",
       "        vertical-align: top;\n",
       "    }\n",
       "\n",
       "    .dataframe thead th {\n",
       "        text-align: right;\n",
       "    }\n",
       "</style>\n",
       "<table border=\"1\" class=\"dataframe\">\n",
       "  <thead>\n",
       "    <tr style=\"text-align: right;\">\n",
       "      <th></th>\n",
       "      <th>App</th>\n",
       "      <th>Translated_Review</th>\n",
       "      <th>Sentiment</th>\n",
       "      <th>Sentiment_Polarity</th>\n",
       "      <th>Sentiment_Subjectivity</th>\n",
       "    </tr>\n",
       "  </thead>\n",
       "  <tbody>\n",
       "    <tr>\n",
       "      <th>0</th>\n",
       "      <td>10 Best Foods for You</td>\n",
       "      <td>I like eat delicious food. That's I'm cooking ...</td>\n",
       "      <td>Positive</td>\n",
       "      <td>1.00</td>\n",
       "      <td>0.533333</td>\n",
       "    </tr>\n",
       "    <tr>\n",
       "      <th>1</th>\n",
       "      <td>10 Best Foods for You</td>\n",
       "      <td>This help eating healthy exercise regular basis</td>\n",
       "      <td>Positive</td>\n",
       "      <td>0.25</td>\n",
       "      <td>0.288462</td>\n",
       "    </tr>\n",
       "    <tr>\n",
       "      <th>2</th>\n",
       "      <td>10 Best Foods for You</td>\n",
       "      <td>NaN</td>\n",
       "      <td>NaN</td>\n",
       "      <td>NaN</td>\n",
       "      <td>NaN</td>\n",
       "    </tr>\n",
       "    <tr>\n",
       "      <th>3</th>\n",
       "      <td>10 Best Foods for You</td>\n",
       "      <td>Works great especially going grocery store</td>\n",
       "      <td>Positive</td>\n",
       "      <td>0.40</td>\n",
       "      <td>0.875000</td>\n",
       "    </tr>\n",
       "    <tr>\n",
       "      <th>4</th>\n",
       "      <td>10 Best Foods for You</td>\n",
       "      <td>Best idea us</td>\n",
       "      <td>Positive</td>\n",
       "      <td>1.00</td>\n",
       "      <td>0.300000</td>\n",
       "    </tr>\n",
       "  </tbody>\n",
       "</table>\n",
       "</div>"
      ],
      "text/plain": [
       "                     App                                  Translated_Review  \\\n",
       "0  10 Best Foods for You  I like eat delicious food. That's I'm cooking ...   \n",
       "1  10 Best Foods for You    This help eating healthy exercise regular basis   \n",
       "2  10 Best Foods for You                                                NaN   \n",
       "3  10 Best Foods for You         Works great especially going grocery store   \n",
       "4  10 Best Foods for You                                       Best idea us   \n",
       "\n",
       "  Sentiment  Sentiment_Polarity  Sentiment_Subjectivity  \n",
       "0  Positive                1.00                0.533333  \n",
       "1  Positive                0.25                0.288462  \n",
       "2       NaN                 NaN                     NaN  \n",
       "3  Positive                0.40                0.875000  \n",
       "4  Positive                1.00                0.300000  "
      ]
     },
     "execution_count": 62,
     "metadata": {},
     "output_type": "execute_result"
    }
   ],
   "source": [
    "df_userreviews = pd.read_csv('user_reviews.csv')\n",
    "df_userreviews.head()"
   ]
  },
  {
   "cell_type": "code",
   "execution_count": 63,
   "metadata": {},
   "outputs": [],
   "source": [
    "df_userreviews.dropna(inplace=True) # dropping NA values"
   ]
  },
  {
   "cell_type": "markdown",
   "metadata": {},
   "source": [
    "In order to summarize all of the positives we will replace those values with '1' and the rest with '0'."
   ]
  },
  {
   "cell_type": "code",
   "execution_count": 64,
   "metadata": {},
   "outputs": [],
   "source": [
    "df_userreviews['Sentiment'] = df_userreviews['Sentiment'].apply(lambda x: x.replace(\"Positive\", \"1\"))\n",
    "df_userreviews['Sentiment'] = df_userreviews['Sentiment'].apply(lambda x: x.replace(\"Neutral\", \"0\"))\n",
    "df_userreviews['Sentiment'] = df_userreviews['Sentiment'].apply(lambda x: x.replace(\"Negative\", \"0\"))"
   ]
  },
  {
   "cell_type": "code",
   "execution_count": 65,
   "metadata": {},
   "outputs": [],
   "source": [
    "df_userreviews['Sentiment'] = pd.to_numeric(df_userreviews['Sentiment'])\n",
    "sentiment_df = df_userreviews.groupby('App',as_index=False)['Sentiment'].sum() # summerize the number of positives\n",
    "sentiment_df['number of reviews'] = df_userreviews.groupby('App').size().to_list()"
   ]
  },
  {
   "cell_type": "code",
   "execution_count": 66,
   "metadata": {},
   "outputs": [],
   "source": [
    "df_googleplaystore = df_googleplaystore.join(sentiment_df.set_index(\"App\"), on=\"App\") # combining between the 2 datasets according to 'App' column"
   ]
  },
  {
   "cell_type": "code",
   "execution_count": 67,
   "metadata": {},
   "outputs": [],
   "source": [
    "df_googleplaystore.dropna(inplace=True) # dropping NA values"
   ]
  },
  {
   "cell_type": "markdown",
   "metadata": {},
   "source": [
    "Now we will add a 'Positive Percent' column"
   ]
  },
  {
   "cell_type": "code",
   "execution_count": 68,
   "metadata": {},
   "outputs": [],
   "source": [
    "df_googleplaystore['Positive Percent'] = df_googleplaystore['Sentiment']/df_googleplaystore['number of reviews'] # calculating the positive percent\n",
    "df_googleplaystore.head()"
   ]
  },
  {
   "cell_type": "code",
   "execution_count": 70,
   "metadata": {},
   "outputs": [
    {
     "data": {
      "text/plain": [
       "Text(0.5, 1.0, 'Positive Reviews Rate vs. Rating Score')"
      ]
     },
     "execution_count": 70,
     "metadata": {},
     "output_type": "execute_result"
    },
    {
     "data": {
      "image/png": "[encoded data removed]",
      "text/plain": [
       "<Figure size 1080x504 with 1 Axes>"
      ]
     },
     "metadata": {
      "needs_background": "light"
     },
     "output_type": "display_data"
    }
   ],
   "source": [
    "plt.figure(figsize=(15,7))\n",
    "sns.regplot(x='Positive Percent', y='Rating',color='purple', data=df_googleplaystore)\n",
    "plt.title(\"Positive Reviews Rate vs. Rating Score\")"
   ]
  },
  {
   "cell_type": "markdown",
   "metadata": {},
   "source": [
    "As shown, there is a minor positive correlation between the two variables (Positive Reviews Rate and Rating Score)."
   ]
  },
  {
   "cell_type": "code",
   "execution_count": null,
   "metadata": {},
   "outputs": [],
   "source": []
  }
 ],
 "metadata": {
  "kernelspec": {
   "display_name": "Python 3",
   "language": "python",
   "name": "python3"
  },
  "language_info": {
   "codemirror_mode": {
    "name": "ipython",
    "version": 3
   },
   "file_extension": ".py",
   "mimetype": "text/x-python",
   "name": "python",
   "nbconvert_exporter": "python",
   "pygments_lexer": "ipython3",
   "version": "3.8.3"
  }
 },
 "nbformat": 4,
 "nbformat_minor": 4
}
